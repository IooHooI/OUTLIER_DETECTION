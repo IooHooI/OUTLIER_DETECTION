{
 "cells": [
  {
   "cell_type": "markdown",
   "metadata": {},
   "source": [
    "# Imports necessary"
   ]
  },
  {
   "cell_type": "code",
   "execution_count": 1,
   "metadata": {},
   "outputs": [],
   "source": [
    "import sys\n",
    "sys.path.append('..')"
   ]
  },
  {
   "cell_type": "code",
   "execution_count": 2,
   "metadata": {},
   "outputs": [],
   "source": [
    "from source.code.od_etl import ODETL"
   ]
  },
  {
   "cell_type": "code",
   "execution_count": 3,
   "metadata": {},
   "outputs": [],
   "source": [
    "from scipy.io import arff\n",
    "import pandas as pd\n",
    "\n",
    "import seaborn as sns\n",
    "import matplotlib.pyplot as plt\n",
    "\n",
    "from sklearn.linear_model import LogisticRegression\n",
    "from sklearn.svm import LinearSVC\n",
    "from sklearn.neighbors import KNeighborsClassifier\n",
    "\n",
    "from sklearn.model_selection import GridSearchCV\n",
    "from sklearn.model_selection import train_test_split"
   ]
  },
  {
   "cell_type": "markdown",
   "metadata": {},
   "source": [
    "# EDA"
   ]
  },
  {
   "cell_type": "markdown",
   "metadata": {},
   "source": [
    "## READ DATASET"
   ]
  },
  {
   "cell_type": "code",
   "execution_count": 4,
   "metadata": {},
   "outputs": [
    {
     "name": "stderr",
     "output_type": "stream",
     "text": [
      "\n",
      "INITIALIZING...\n",
      "INITIALIZATION HAS BEEN COMPLETED\n"
     ]
    }
   ],
   "source": [
    "od_etl = ODETL(local_path='../data/datasets/')"
   ]
  },
  {
   "cell_type": "code",
   "execution_count": 5,
   "metadata": {},
   "outputs": [
    {
     "name": "stderr",
     "output_type": "stream",
     "text": [
      "ARCHIVE FILE HAS BEEN ALREADY DOWNLOADED\n",
      "ARCHIVE FILE HAS BEEN ALREADY UNZIPPED\n"
     ]
    }
   ],
   "source": [
    "od_etl.get_raw_data(url='http://www.dbs.ifi.lmu.de/research/outlier-evaluation/input/ALOI.tar.gz')"
   ]
  },
  {
   "cell_type": "code",
   "execution_count": 6,
   "metadata": {},
   "outputs": [],
   "source": [
    "data = arff.loadarff('../data/datasets/ALOI_withoutdupl_norm.arff')\n",
    "df = pd.DataFrame(data[0])\n",
    "df.set_index('id', inplace=True)"
   ]
  },
  {
   "cell_type": "markdown",
   "metadata": {},
   "source": [
    "## DATASET DESCRIPTION"
   ]
  },
  {
   "cell_type": "code",
   "execution_count": 7,
   "metadata": {},
   "outputs": [
    {
     "data": {
      "text/html": [
       "<div>\n",
       "<style scoped>\n",
       "    .dataframe tbody tr th:only-of-type {\n",
       "        vertical-align: middle;\n",
       "    }\n",
       "\n",
       "    .dataframe tbody tr th {\n",
       "        vertical-align: top;\n",
       "    }\n",
       "\n",
       "    .dataframe thead th {\n",
       "        text-align: right;\n",
       "    }\n",
       "</style>\n",
       "<table border=\"1\" class=\"dataframe\">\n",
       "  <thead>\n",
       "    <tr style=\"text-align: right;\">\n",
       "      <th></th>\n",
       "      <th>att1</th>\n",
       "      <th>att2</th>\n",
       "      <th>att3</th>\n",
       "      <th>att4</th>\n",
       "      <th>att5</th>\n",
       "      <th>att6</th>\n",
       "      <th>att7</th>\n",
       "      <th>att8</th>\n",
       "      <th>att9</th>\n",
       "      <th>att10</th>\n",
       "      <th>...</th>\n",
       "      <th>att19</th>\n",
       "      <th>att20</th>\n",
       "      <th>att21</th>\n",
       "      <th>att22</th>\n",
       "      <th>att23</th>\n",
       "      <th>att24</th>\n",
       "      <th>att25</th>\n",
       "      <th>att26</th>\n",
       "      <th>att27</th>\n",
       "      <th>outlier</th>\n",
       "    </tr>\n",
       "    <tr>\n",
       "      <th>id</th>\n",
       "      <th></th>\n",
       "      <th></th>\n",
       "      <th></th>\n",
       "      <th></th>\n",
       "      <th></th>\n",
       "      <th></th>\n",
       "      <th></th>\n",
       "      <th></th>\n",
       "      <th></th>\n",
       "      <th></th>\n",
       "      <th></th>\n",
       "      <th></th>\n",
       "      <th></th>\n",
       "      <th></th>\n",
       "      <th></th>\n",
       "      <th></th>\n",
       "      <th></th>\n",
       "      <th></th>\n",
       "      <th></th>\n",
       "      <th></th>\n",
       "      <th></th>\n",
       "    </tr>\n",
       "  </thead>\n",
       "  <tbody>\n",
       "    <tr>\n",
       "      <th>1.0</th>\n",
       "      <td>0.784999</td>\n",
       "      <td>0.000018</td>\n",
       "      <td>0.0</td>\n",
       "      <td>0.000093</td>\n",
       "      <td>0.0</td>\n",
       "      <td>0.0</td>\n",
       "      <td>0.0</td>\n",
       "      <td>0.0</td>\n",
       "      <td>0.0</td>\n",
       "      <td>0.139811</td>\n",
       "      <td>...</td>\n",
       "      <td>0.048171</td>\n",
       "      <td>0.001189</td>\n",
       "      <td>0.0</td>\n",
       "      <td>0.115728</td>\n",
       "      <td>0.023449</td>\n",
       "      <td>0.0002</td>\n",
       "      <td>0.000220</td>\n",
       "      <td>0.034952</td>\n",
       "      <td>0.046914</td>\n",
       "      <td>b\"'yes'\"</td>\n",
       "    </tr>\n",
       "    <tr>\n",
       "      <th>2.0</th>\n",
       "      <td>0.958088</td>\n",
       "      <td>0.000000</td>\n",
       "      <td>0.0</td>\n",
       "      <td>0.001671</td>\n",
       "      <td>0.0</td>\n",
       "      <td>0.0</td>\n",
       "      <td>0.0</td>\n",
       "      <td>0.0</td>\n",
       "      <td>0.0</td>\n",
       "      <td>0.019556</td>\n",
       "      <td>...</td>\n",
       "      <td>0.000000</td>\n",
       "      <td>0.000000</td>\n",
       "      <td>0.0</td>\n",
       "      <td>0.022035</td>\n",
       "      <td>0.007516</td>\n",
       "      <td>0.0000</td>\n",
       "      <td>0.000000</td>\n",
       "      <td>0.001033</td>\n",
       "      <td>0.000000</td>\n",
       "      <td>b\"'yes'\"</td>\n",
       "    </tr>\n",
       "    <tr>\n",
       "      <th>3.0</th>\n",
       "      <td>0.938768</td>\n",
       "      <td>0.000000</td>\n",
       "      <td>0.0</td>\n",
       "      <td>0.005146</td>\n",
       "      <td>0.0</td>\n",
       "      <td>0.0</td>\n",
       "      <td>0.0</td>\n",
       "      <td>0.0</td>\n",
       "      <td>0.0</td>\n",
       "      <td>0.018451</td>\n",
       "      <td>...</td>\n",
       "      <td>0.000000</td>\n",
       "      <td>0.000000</td>\n",
       "      <td>0.0</td>\n",
       "      <td>0.035542</td>\n",
       "      <td>0.011982</td>\n",
       "      <td>0.0000</td>\n",
       "      <td>0.001595</td>\n",
       "      <td>0.019520</td>\n",
       "      <td>0.000000</td>\n",
       "      <td>b\"'yes'\"</td>\n",
       "    </tr>\n",
       "    <tr>\n",
       "      <th>4.0</th>\n",
       "      <td>0.954775</td>\n",
       "      <td>0.000000</td>\n",
       "      <td>0.0</td>\n",
       "      <td>0.001427</td>\n",
       "      <td>0.0</td>\n",
       "      <td>0.0</td>\n",
       "      <td>0.0</td>\n",
       "      <td>0.0</td>\n",
       "      <td>0.0</td>\n",
       "      <td>0.024944</td>\n",
       "      <td>...</td>\n",
       "      <td>0.000000</td>\n",
       "      <td>0.000000</td>\n",
       "      <td>0.0</td>\n",
       "      <td>0.019941</td>\n",
       "      <td>0.000805</td>\n",
       "      <td>0.0000</td>\n",
       "      <td>0.000000</td>\n",
       "      <td>0.000035</td>\n",
       "      <td>0.000000</td>\n",
       "      <td>b\"'yes'\"</td>\n",
       "    </tr>\n",
       "    <tr>\n",
       "      <th>5.0</th>\n",
       "      <td>0.933601</td>\n",
       "      <td>0.000000</td>\n",
       "      <td>0.0</td>\n",
       "      <td>0.001682</td>\n",
       "      <td>0.0</td>\n",
       "      <td>0.0</td>\n",
       "      <td>0.0</td>\n",
       "      <td>0.0</td>\n",
       "      <td>0.0</td>\n",
       "      <td>0.037002</td>\n",
       "      <td>...</td>\n",
       "      <td>0.000000</td>\n",
       "      <td>0.000000</td>\n",
       "      <td>0.0</td>\n",
       "      <td>0.046759</td>\n",
       "      <td>0.002663</td>\n",
       "      <td>0.0000</td>\n",
       "      <td>0.000339</td>\n",
       "      <td>0.001359</td>\n",
       "      <td>0.000000</td>\n",
       "      <td>b\"'yes'\"</td>\n",
       "    </tr>\n",
       "  </tbody>\n",
       "</table>\n",
       "<p>5 rows × 28 columns</p>\n",
       "</div>"
      ],
      "text/plain": [
       "         att1      att2  att3      att4  att5  att6  att7  att8  att9  \\\n",
       "id                                                                      \n",
       "1.0  0.784999  0.000018   0.0  0.000093   0.0   0.0   0.0   0.0   0.0   \n",
       "2.0  0.958088  0.000000   0.0  0.001671   0.0   0.0   0.0   0.0   0.0   \n",
       "3.0  0.938768  0.000000   0.0  0.005146   0.0   0.0   0.0   0.0   0.0   \n",
       "4.0  0.954775  0.000000   0.0  0.001427   0.0   0.0   0.0   0.0   0.0   \n",
       "5.0  0.933601  0.000000   0.0  0.001682   0.0   0.0   0.0   0.0   0.0   \n",
       "\n",
       "        att10    ...        att19     att20  att21     att22     att23  \\\n",
       "id               ...                                                     \n",
       "1.0  0.139811    ...     0.048171  0.001189    0.0  0.115728  0.023449   \n",
       "2.0  0.019556    ...     0.000000  0.000000    0.0  0.022035  0.007516   \n",
       "3.0  0.018451    ...     0.000000  0.000000    0.0  0.035542  0.011982   \n",
       "4.0  0.024944    ...     0.000000  0.000000    0.0  0.019941  0.000805   \n",
       "5.0  0.037002    ...     0.000000  0.000000    0.0  0.046759  0.002663   \n",
       "\n",
       "      att24     att25     att26     att27   outlier  \n",
       "id                                                   \n",
       "1.0  0.0002  0.000220  0.034952  0.046914  b\"'yes'\"  \n",
       "2.0  0.0000  0.000000  0.001033  0.000000  b\"'yes'\"  \n",
       "3.0  0.0000  0.001595  0.019520  0.000000  b\"'yes'\"  \n",
       "4.0  0.0000  0.000000  0.000035  0.000000  b\"'yes'\"  \n",
       "5.0  0.0000  0.000339  0.001359  0.000000  b\"'yes'\"  \n",
       "\n",
       "[5 rows x 28 columns]"
      ]
     },
     "execution_count": 7,
     "metadata": {},
     "output_type": "execute_result"
    }
   ],
   "source": [
    "df.head()"
   ]
  },
  {
   "cell_type": "code",
   "execution_count": 8,
   "metadata": {},
   "outputs": [
    {
     "name": "stdout",
     "output_type": "stream",
     "text": [
      "<class 'pandas.core.frame.DataFrame'>\n",
      "Float64Index: 49534 entries, 1.0 to 50000.0\n",
      "Data columns (total 28 columns):\n",
      "att1       49534 non-null float64\n",
      "att2       49534 non-null float64\n",
      "att3       49534 non-null float64\n",
      "att4       49534 non-null float64\n",
      "att5       49534 non-null float64\n",
      "att6       49534 non-null float64\n",
      "att7       49534 non-null float64\n",
      "att8       49534 non-null float64\n",
      "att9       49534 non-null float64\n",
      "att10      49534 non-null float64\n",
      "att11      49534 non-null float64\n",
      "att12      49534 non-null float64\n",
      "att13      49534 non-null float64\n",
      "att14      49534 non-null float64\n",
      "att15      49534 non-null float64\n",
      "att16      49534 non-null float64\n",
      "att17      49534 non-null float64\n",
      "att18      49534 non-null float64\n",
      "att19      49534 non-null float64\n",
      "att20      49534 non-null float64\n",
      "att21      49534 non-null float64\n",
      "att22      49534 non-null float64\n",
      "att23      49534 non-null float64\n",
      "att24      49534 non-null float64\n",
      "att25      49534 non-null float64\n",
      "att26      49534 non-null float64\n",
      "att27      49534 non-null float64\n",
      "outlier    49534 non-null object\n",
      "dtypes: float64(27), object(1)\n",
      "memory usage: 11.0+ MB\n"
     ]
    }
   ],
   "source": [
    "df.info()"
   ]
  },
  {
   "cell_type": "code",
   "execution_count": 9,
   "metadata": {},
   "outputs": [
    {
     "data": {
      "text/plain": [
       "b\"'no'\"     48026\n",
       "b\"'yes'\"     1508\n",
       "Name: outlier, dtype: int64"
      ]
     },
     "execution_count": 9,
     "metadata": {},
     "output_type": "execute_result"
    }
   ],
   "source": [
    "df.outlier.value_counts()"
   ]
  },
  {
   "cell_type": "code",
   "execution_count": 10,
   "metadata": {},
   "outputs": [
    {
     "data": {
      "text/html": [
       "<div>\n",
       "<style scoped>\n",
       "    .dataframe tbody tr th:only-of-type {\n",
       "        vertical-align: middle;\n",
       "    }\n",
       "\n",
       "    .dataframe tbody tr th {\n",
       "        vertical-align: top;\n",
       "    }\n",
       "\n",
       "    .dataframe thead th {\n",
       "        text-align: right;\n",
       "    }\n",
       "</style>\n",
       "<table border=\"1\" class=\"dataframe\">\n",
       "  <thead>\n",
       "    <tr style=\"text-align: right;\">\n",
       "      <th></th>\n",
       "      <th>count</th>\n",
       "      <th>mean</th>\n",
       "      <th>std</th>\n",
       "      <th>min</th>\n",
       "      <th>25%</th>\n",
       "      <th>50%</th>\n",
       "      <th>75%</th>\n",
       "      <th>max</th>\n",
       "    </tr>\n",
       "  </thead>\n",
       "  <tbody>\n",
       "    <tr>\n",
       "      <th>att1</th>\n",
       "      <td>49534.0</td>\n",
       "      <td>0.830656</td>\n",
       "      <td>0.136604</td>\n",
       "      <td>0.0</td>\n",
       "      <td>0.755428</td>\n",
       "      <td>0.868093</td>\n",
       "      <td>0.934900</td>\n",
       "      <td>1.0</td>\n",
       "    </tr>\n",
       "    <tr>\n",
       "      <th>att2</th>\n",
       "      <td>49534.0</td>\n",
       "      <td>0.011929</td>\n",
       "      <td>0.051645</td>\n",
       "      <td>0.0</td>\n",
       "      <td>0.000000</td>\n",
       "      <td>0.000083</td>\n",
       "      <td>0.002049</td>\n",
       "      <td>1.0</td>\n",
       "    </tr>\n",
       "    <tr>\n",
       "      <th>att3</th>\n",
       "      <td>49534.0</td>\n",
       "      <td>0.001878</td>\n",
       "      <td>0.024246</td>\n",
       "      <td>0.0</td>\n",
       "      <td>0.000000</td>\n",
       "      <td>0.000000</td>\n",
       "      <td>0.000000</td>\n",
       "      <td>1.0</td>\n",
       "    </tr>\n",
       "    <tr>\n",
       "      <th>att4</th>\n",
       "      <td>49534.0</td>\n",
       "      <td>0.005562</td>\n",
       "      <td>0.026963</td>\n",
       "      <td>0.0</td>\n",
       "      <td>0.000029</td>\n",
       "      <td>0.000389</td>\n",
       "      <td>0.002094</td>\n",
       "      <td>1.0</td>\n",
       "    </tr>\n",
       "    <tr>\n",
       "      <th>att5</th>\n",
       "      <td>49534.0</td>\n",
       "      <td>0.010676</td>\n",
       "      <td>0.045020</td>\n",
       "      <td>0.0</td>\n",
       "      <td>0.000000</td>\n",
       "      <td>0.000128</td>\n",
       "      <td>0.002648</td>\n",
       "      <td>1.0</td>\n",
       "    </tr>\n",
       "    <tr>\n",
       "      <th>att6</th>\n",
       "      <td>49534.0</td>\n",
       "      <td>0.004287</td>\n",
       "      <td>0.029679</td>\n",
       "      <td>0.0</td>\n",
       "      <td>0.000000</td>\n",
       "      <td>0.000000</td>\n",
       "      <td>0.000000</td>\n",
       "      <td>1.0</td>\n",
       "    </tr>\n",
       "    <tr>\n",
       "      <th>att7</th>\n",
       "      <td>49534.0</td>\n",
       "      <td>0.000182</td>\n",
       "      <td>0.005069</td>\n",
       "      <td>0.0</td>\n",
       "      <td>0.000000</td>\n",
       "      <td>0.000000</td>\n",
       "      <td>0.000000</td>\n",
       "      <td>1.0</td>\n",
       "    </tr>\n",
       "    <tr>\n",
       "      <th>att8</th>\n",
       "      <td>49534.0</td>\n",
       "      <td>0.001629</td>\n",
       "      <td>0.019139</td>\n",
       "      <td>0.0</td>\n",
       "      <td>0.000000</td>\n",
       "      <td>0.000000</td>\n",
       "      <td>0.000000</td>\n",
       "      <td>1.0</td>\n",
       "    </tr>\n",
       "    <tr>\n",
       "      <th>att9</th>\n",
       "      <td>49534.0</td>\n",
       "      <td>0.002159</td>\n",
       "      <td>0.026364</td>\n",
       "      <td>0.0</td>\n",
       "      <td>0.000000</td>\n",
       "      <td>0.000000</td>\n",
       "      <td>0.000000</td>\n",
       "      <td>1.0</td>\n",
       "    </tr>\n",
       "    <tr>\n",
       "      <th>att10</th>\n",
       "      <td>49534.0</td>\n",
       "      <td>0.054785</td>\n",
       "      <td>0.076228</td>\n",
       "      <td>0.0</td>\n",
       "      <td>0.006005</td>\n",
       "      <td>0.026816</td>\n",
       "      <td>0.072143</td>\n",
       "      <td>1.0</td>\n",
       "    </tr>\n",
       "    <tr>\n",
       "      <th>att11</th>\n",
       "      <td>49534.0</td>\n",
       "      <td>0.003045</td>\n",
       "      <td>0.021687</td>\n",
       "      <td>0.0</td>\n",
       "      <td>0.000000</td>\n",
       "      <td>0.000218</td>\n",
       "      <td>0.001119</td>\n",
       "      <td>1.0</td>\n",
       "    </tr>\n",
       "    <tr>\n",
       "      <th>att12</th>\n",
       "      <td>49534.0</td>\n",
       "      <td>0.001017</td>\n",
       "      <td>0.014668</td>\n",
       "      <td>0.0</td>\n",
       "      <td>0.000000</td>\n",
       "      <td>0.000000</td>\n",
       "      <td>0.000000</td>\n",
       "      <td>1.0</td>\n",
       "    </tr>\n",
       "    <tr>\n",
       "      <th>att13</th>\n",
       "      <td>49534.0</td>\n",
       "      <td>0.039166</td>\n",
       "      <td>0.061323</td>\n",
       "      <td>0.0</td>\n",
       "      <td>0.004830</td>\n",
       "      <td>0.018167</td>\n",
       "      <td>0.048864</td>\n",
       "      <td>1.0</td>\n",
       "    </tr>\n",
       "    <tr>\n",
       "      <th>att14</th>\n",
       "      <td>49534.0</td>\n",
       "      <td>0.032721</td>\n",
       "      <td>0.063184</td>\n",
       "      <td>0.0</td>\n",
       "      <td>0.000658</td>\n",
       "      <td>0.008066</td>\n",
       "      <td>0.034563</td>\n",
       "      <td>1.0</td>\n",
       "    </tr>\n",
       "    <tr>\n",
       "      <th>att15</th>\n",
       "      <td>49534.0</td>\n",
       "      <td>0.006277</td>\n",
       "      <td>0.039822</td>\n",
       "      <td>0.0</td>\n",
       "      <td>0.000000</td>\n",
       "      <td>0.000022</td>\n",
       "      <td>0.000999</td>\n",
       "      <td>1.0</td>\n",
       "    </tr>\n",
       "    <tr>\n",
       "      <th>att16</th>\n",
       "      <td>49534.0</td>\n",
       "      <td>0.002769</td>\n",
       "      <td>0.027256</td>\n",
       "      <td>0.0</td>\n",
       "      <td>0.000000</td>\n",
       "      <td>0.000000</td>\n",
       "      <td>0.000050</td>\n",
       "      <td>1.0</td>\n",
       "    </tr>\n",
       "    <tr>\n",
       "      <th>att17</th>\n",
       "      <td>49534.0</td>\n",
       "      <td>0.006562</td>\n",
       "      <td>0.035587</td>\n",
       "      <td>0.0</td>\n",
       "      <td>0.000000</td>\n",
       "      <td>0.000532</td>\n",
       "      <td>0.003219</td>\n",
       "      <td>1.0</td>\n",
       "    </tr>\n",
       "    <tr>\n",
       "      <th>att18</th>\n",
       "      <td>49534.0</td>\n",
       "      <td>0.006000</td>\n",
       "      <td>0.031913</td>\n",
       "      <td>0.0</td>\n",
       "      <td>0.000000</td>\n",
       "      <td>0.000017</td>\n",
       "      <td>0.000570</td>\n",
       "      <td>1.0</td>\n",
       "    </tr>\n",
       "    <tr>\n",
       "      <th>att19</th>\n",
       "      <td>49534.0</td>\n",
       "      <td>0.019186</td>\n",
       "      <td>0.065318</td>\n",
       "      <td>0.0</td>\n",
       "      <td>0.000000</td>\n",
       "      <td>0.000069</td>\n",
       "      <td>0.007507</td>\n",
       "      <td>1.0</td>\n",
       "    </tr>\n",
       "    <tr>\n",
       "      <th>att20</th>\n",
       "      <td>49534.0</td>\n",
       "      <td>0.001612</td>\n",
       "      <td>0.017208</td>\n",
       "      <td>0.0</td>\n",
       "      <td>0.000000</td>\n",
       "      <td>0.000000</td>\n",
       "      <td>0.000155</td>\n",
       "      <td>1.0</td>\n",
       "    </tr>\n",
       "    <tr>\n",
       "      <th>att21</th>\n",
       "      <td>49534.0</td>\n",
       "      <td>0.000194</td>\n",
       "      <td>0.009467</td>\n",
       "      <td>0.0</td>\n",
       "      <td>0.000000</td>\n",
       "      <td>0.000000</td>\n",
       "      <td>0.000000</td>\n",
       "      <td>1.0</td>\n",
       "    </tr>\n",
       "    <tr>\n",
       "      <th>att22</th>\n",
       "      <td>49534.0</td>\n",
       "      <td>0.040778</td>\n",
       "      <td>0.090239</td>\n",
       "      <td>0.0</td>\n",
       "      <td>0.000133</td>\n",
       "      <td>0.004033</td>\n",
       "      <td>0.035952</td>\n",
       "      <td>1.0</td>\n",
       "    </tr>\n",
       "    <tr>\n",
       "      <th>att23</th>\n",
       "      <td>49534.0</td>\n",
       "      <td>0.019520</td>\n",
       "      <td>0.045489</td>\n",
       "      <td>0.0</td>\n",
       "      <td>0.000655</td>\n",
       "      <td>0.004703</td>\n",
       "      <td>0.018768</td>\n",
       "      <td>1.0</td>\n",
       "    </tr>\n",
       "    <tr>\n",
       "      <th>att24</th>\n",
       "      <td>49534.0</td>\n",
       "      <td>0.002293</td>\n",
       "      <td>0.014051</td>\n",
       "      <td>0.0</td>\n",
       "      <td>0.000000</td>\n",
       "      <td>0.000200</td>\n",
       "      <td>0.001323</td>\n",
       "      <td>1.0</td>\n",
       "    </tr>\n",
       "    <tr>\n",
       "      <th>att25</th>\n",
       "      <td>49534.0</td>\n",
       "      <td>0.022375</td>\n",
       "      <td>0.068463</td>\n",
       "      <td>0.0</td>\n",
       "      <td>0.000000</td>\n",
       "      <td>0.000101</td>\n",
       "      <td>0.005307</td>\n",
       "      <td>1.0</td>\n",
       "    </tr>\n",
       "    <tr>\n",
       "      <th>att26</th>\n",
       "      <td>49534.0</td>\n",
       "      <td>0.047417</td>\n",
       "      <td>0.089048</td>\n",
       "      <td>0.0</td>\n",
       "      <td>0.001382</td>\n",
       "      <td>0.011960</td>\n",
       "      <td>0.052602</td>\n",
       "      <td>1.0</td>\n",
       "    </tr>\n",
       "    <tr>\n",
       "      <th>att27</th>\n",
       "      <td>49534.0</td>\n",
       "      <td>0.047133</td>\n",
       "      <td>0.096755</td>\n",
       "      <td>0.0</td>\n",
       "      <td>0.000524</td>\n",
       "      <td>0.005811</td>\n",
       "      <td>0.046678</td>\n",
       "      <td>1.0</td>\n",
       "    </tr>\n",
       "  </tbody>\n",
       "</table>\n",
       "</div>"
      ],
      "text/plain": [
       "         count      mean       std  min       25%       50%       75%  max\n",
       "att1   49534.0  0.830656  0.136604  0.0  0.755428  0.868093  0.934900  1.0\n",
       "att2   49534.0  0.011929  0.051645  0.0  0.000000  0.000083  0.002049  1.0\n",
       "att3   49534.0  0.001878  0.024246  0.0  0.000000  0.000000  0.000000  1.0\n",
       "att4   49534.0  0.005562  0.026963  0.0  0.000029  0.000389  0.002094  1.0\n",
       "att5   49534.0  0.010676  0.045020  0.0  0.000000  0.000128  0.002648  1.0\n",
       "att6   49534.0  0.004287  0.029679  0.0  0.000000  0.000000  0.000000  1.0\n",
       "att7   49534.0  0.000182  0.005069  0.0  0.000000  0.000000  0.000000  1.0\n",
       "att8   49534.0  0.001629  0.019139  0.0  0.000000  0.000000  0.000000  1.0\n",
       "att9   49534.0  0.002159  0.026364  0.0  0.000000  0.000000  0.000000  1.0\n",
       "att10  49534.0  0.054785  0.076228  0.0  0.006005  0.026816  0.072143  1.0\n",
       "att11  49534.0  0.003045  0.021687  0.0  0.000000  0.000218  0.001119  1.0\n",
       "att12  49534.0  0.001017  0.014668  0.0  0.000000  0.000000  0.000000  1.0\n",
       "att13  49534.0  0.039166  0.061323  0.0  0.004830  0.018167  0.048864  1.0\n",
       "att14  49534.0  0.032721  0.063184  0.0  0.000658  0.008066  0.034563  1.0\n",
       "att15  49534.0  0.006277  0.039822  0.0  0.000000  0.000022  0.000999  1.0\n",
       "att16  49534.0  0.002769  0.027256  0.0  0.000000  0.000000  0.000050  1.0\n",
       "att17  49534.0  0.006562  0.035587  0.0  0.000000  0.000532  0.003219  1.0\n",
       "att18  49534.0  0.006000  0.031913  0.0  0.000000  0.000017  0.000570  1.0\n",
       "att19  49534.0  0.019186  0.065318  0.0  0.000000  0.000069  0.007507  1.0\n",
       "att20  49534.0  0.001612  0.017208  0.0  0.000000  0.000000  0.000155  1.0\n",
       "att21  49534.0  0.000194  0.009467  0.0  0.000000  0.000000  0.000000  1.0\n",
       "att22  49534.0  0.040778  0.090239  0.0  0.000133  0.004033  0.035952  1.0\n",
       "att23  49534.0  0.019520  0.045489  0.0  0.000655  0.004703  0.018768  1.0\n",
       "att24  49534.0  0.002293  0.014051  0.0  0.000000  0.000200  0.001323  1.0\n",
       "att25  49534.0  0.022375  0.068463  0.0  0.000000  0.000101  0.005307  1.0\n",
       "att26  49534.0  0.047417  0.089048  0.0  0.001382  0.011960  0.052602  1.0\n",
       "att27  49534.0  0.047133  0.096755  0.0  0.000524  0.005811  0.046678  1.0"
      ]
     },
     "execution_count": 10,
     "metadata": {},
     "output_type": "execute_result"
    }
   ],
   "source": [
    "df.describe().T"
   ]
  },
  {
   "cell_type": "code",
   "execution_count": 11,
   "metadata": {},
   "outputs": [],
   "source": [
    "X = df[df.columns[0:-1]]\n",
    "y = df.outlier.apply(lambda x: x == b\"'yes'\").apply(int)"
   ]
  },
  {
   "cell_type": "code",
   "execution_count": 12,
   "metadata": {},
   "outputs": [],
   "source": [
    "X_train, X_validation, y_train, y_validation = train_test_split(X, y, test_size=0.33, random_state=42)"
   ]
  },
  {
   "cell_type": "markdown",
   "metadata": {},
   "source": [
    "## FEATURE CONNECTIONS VISUALIZATION"
   ]
  },
  {
   "cell_type": "code",
   "execution_count": null,
   "metadata": {},
   "outputs": [],
   "source": [
    "sns.pairplot(df[df.columns[0:-1]])\n",
    "\n",
    "[i.set_color(\"green\") for i in plt.gca().get_xticklabels()]\n",
    "[i.set_color(\"green\") for i in plt.gca().get_yticklabels()]\n",
    "\n",
    "plt.show()"
   ]
  },
  {
   "cell_type": "markdown",
   "metadata": {},
   "source": [
    "## CORRELATION COEFFICIENTS VISUALIZATION"
   ]
  },
  {
   "cell_type": "markdown",
   "metadata": {},
   "source": [
    "### PEARSON"
   ]
  },
  {
   "cell_type": "code",
   "execution_count": null,
   "metadata": {},
   "outputs": [],
   "source": [
    "sns.heatmap(df[df.columns[0:-1]].corr(method='pearson'))\n",
    "\n",
    "[i.set_color(\"green\") for i in plt.gca().get_xticklabels()]\n",
    "[i.set_color(\"green\") for i in plt.gca().get_yticklabels()]\n",
    "\n",
    "plt.show()"
   ]
  },
  {
   "cell_type": "markdown",
   "metadata": {},
   "source": [
    "### SPEARMAN"
   ]
  },
  {
   "cell_type": "code",
   "execution_count": null,
   "metadata": {},
   "outputs": [],
   "source": [
    "sns.heatmap(df[df.columns[0:-1]].corr(method='spearman'))\n",
    "\n",
    "[i.set_color(\"green\") for i in plt.gca().get_xticklabels()]\n",
    "[i.set_color(\"green\") for i in plt.gca().get_yticklabels()]\n",
    "\n",
    "plt.show()"
   ]
  },
  {
   "cell_type": "markdown",
   "metadata": {},
   "source": [
    "## DIMENSIONALITY REDUCTION"
   ]
  },
  {
   "cell_type": "markdown",
   "metadata": {},
   "source": [
    "### PCA"
   ]
  },
  {
   "cell_type": "code",
   "execution_count": null,
   "metadata": {},
   "outputs": [],
   "source": []
  },
  {
   "cell_type": "markdown",
   "metadata": {},
   "source": [
    "# SOLUTION"
   ]
  },
  {
   "cell_type": "markdown",
   "metadata": {},
   "source": [
    "## SUPERVISED PART"
   ]
  },
  {
   "cell_type": "markdown",
   "metadata": {},
   "source": [
    "### Logistic regression"
   ]
  },
  {
   "cell_type": "code",
   "execution_count": null,
   "metadata": {},
   "outputs": [],
   "source": [
    "lr = LogisticRegression()"
   ]
  },
  {
   "cell_type": "code",
   "execution_count": null,
   "metadata": {},
   "outputs": [],
   "source": [
    "lr.get_params()"
   ]
  },
  {
   "cell_type": "code",
   "execution_count": null,
   "metadata": {},
   "outputs": [],
   "source": [
    "lr_params_grid = {\n",
    "    'C': [1, 2, 3],\n",
    "    'penalty': ['l1', 'l2']\n",
    "}"
   ]
  },
  {
   "cell_type": "code",
   "execution_count": null,
   "metadata": {},
   "outputs": [],
   "source": [
    "lr_gs = GridSearchCV(lr, param_grid=lr_params_grid, scoring='recall', verbose=10)"
   ]
  },
  {
   "cell_type": "code",
   "execution_count": null,
   "metadata": {},
   "outputs": [],
   "source": [
    "lr_gs.fit(X_train, y_train)"
   ]
  },
  {
   "cell_type": "markdown",
   "metadata": {},
   "source": [
    "### SVM"
   ]
  },
  {
   "cell_type": "code",
   "execution_count": null,
   "metadata": {},
   "outputs": [],
   "source": [
    "svm = LinearSVC()"
   ]
  },
  {
   "cell_type": "code",
   "execution_count": null,
   "metadata": {},
   "outputs": [],
   "source": [
    "svm.get_params()"
   ]
  },
  {
   "cell_type": "code",
   "execution_count": null,
   "metadata": {},
   "outputs": [],
   "source": [
    "svm_params_grid = {\n",
    "    'C': [1, 2, 3],\n",
    "    'intercept_scaling': [1, 2, 3]\n",
    "}"
   ]
  },
  {
   "cell_type": "code",
   "execution_count": null,
   "metadata": {},
   "outputs": [],
   "source": [
    "svm_gs = GridSearchCV(svm, param_grid=svm_params_grid, scoring='recall', verbose=10)"
   ]
  },
  {
   "cell_type": "code",
   "execution_count": null,
   "metadata": {},
   "outputs": [],
   "source": [
    "svm_gs.fit(X_train, y_train)"
   ]
  },
  {
   "cell_type": "markdown",
   "metadata": {},
   "source": [
    "### KNN"
   ]
  },
  {
   "cell_type": "code",
   "execution_count": null,
   "metadata": {},
   "outputs": [],
   "source": [
    "knn = KNeighborsClassifier()"
   ]
  },
  {
   "cell_type": "code",
   "execution_count": null,
   "metadata": {},
   "outputs": [],
   "source": [
    "knn.get_params()"
   ]
  },
  {
   "cell_type": "code",
   "execution_count": null,
   "metadata": {},
   "outputs": [],
   "source": [
    "knn_params_grid = {\n",
    "    'leaf_size': [10, 20],\n",
    "    'p': [1, 2, 3],\n",
    "    'n_neighbors': [5, 7]\n",
    "}"
   ]
  },
  {
   "cell_type": "code",
   "execution_count": null,
   "metadata": {},
   "outputs": [],
   "source": [
    "knn_gs = GridSearchCV(knn, param_grid=knn_params_grid, scoring='recall', verbose=10)"
   ]
  },
  {
   "cell_type": "code",
   "execution_count": null,
   "metadata": {},
   "outputs": [],
   "source": [
    "knn_gs.fit(X_train, y_train)"
   ]
  },
  {
   "cell_type": "markdown",
   "metadata": {},
   "source": [
    "## Quality metrics"
   ]
  },
  {
   "cell_type": "markdown",
   "metadata": {},
   "source": [
    "### ROC-AUC"
   ]
  },
  {
   "cell_type": "code",
   "execution_count": null,
   "metadata": {},
   "outputs": [],
   "source": []
  },
  {
   "cell_type": "markdown",
   "metadata": {},
   "source": [
    "### PR-AUC"
   ]
  },
  {
   "cell_type": "code",
   "execution_count": null,
   "metadata": {},
   "outputs": [],
   "source": []
  },
  {
   "cell_type": "markdown",
   "metadata": {},
   "source": [
    "## Feature engineering"
   ]
  },
  {
   "cell_type": "code",
   "execution_count": 13,
   "metadata": {},
   "outputs": [],
   "source": [
    "initial_attributes = X.columns"
   ]
  },
  {
   "cell_type": "code",
   "execution_count": 14,
   "metadata": {},
   "outputs": [],
   "source": [
    "X = X.apply(lambda x: x / sum(x), axis=1)"
   ]
  },
  {
   "cell_type": "code",
   "execution_count": 15,
   "metadata": {},
   "outputs": [],
   "source": [
    "X['mean_est'] = X.apply(lambda x: sum(range(1, 28) * x), axis=1)"
   ]
  },
  {
   "cell_type": "code",
   "execution_count": 16,
   "metadata": {},
   "outputs": [],
   "source": [
    "X['mode'] = X[initial_attributes].apply(lambda x: x.values.argmax(), axis=1)"
   ]
  },
  {
   "cell_type": "code",
   "execution_count": 29,
   "metadata": {},
   "outputs": [],
   "source": [
    "X['std_est'] = X.apply(lambda x: sum(x[initial_attributes] * (range(1, 28) - x['mean_est']) ** 2) ** 0.5, axis=1)"
   ]
  },
  {
   "cell_type": "code",
   "execution_count": 30,
   "metadata": {},
   "outputs": [
    {
     "data": {
      "text/plain": [
       "<matplotlib.axes._subplots.AxesSubplot at 0x7f7d7bb9e208>"
      ]
     },
     "execution_count": 30,
     "metadata": {},
     "output_type": "execute_result"
    },
    {
     "data": {
      "image/png": "[encoded data removed]",
      "text/plain": [
       "<matplotlib.figure.Figure at 0x7f7d71fac160>"
      ]
     },
     "metadata": {},
     "output_type": "display_data"
    }
   ],
   "source": [
    "X.std_est.hist()"
   ]
  },
  {
   "cell_type": "code",
   "execution_count": 31,
   "metadata": {},
   "outputs": [
    {
     "data": {
      "image/png": "[encoded data removed]",
      "text/plain": [
       "<matplotlib.figure.Figure at 0x7f7d7225fc50>"
      ]
     },
     "metadata": {},
     "output_type": "display_data"
    }
   ],
   "source": [
    "sns.pairplot(X[['mean_est', 'mode', 'std_est']])\n",
    "plt.show()"
   ]
  },
  {
   "cell_type": "markdown",
   "metadata": {},
   "source": [
    "## UNSUPERVISED PART"
   ]
  },
  {
   "cell_type": "markdown",
   "metadata": {},
   "source": [
    "### DBSCAN"
   ]
  },
  {
   "cell_type": "code",
   "execution_count": null,
   "metadata": {},
   "outputs": [],
   "source": []
  },
  {
   "cell_type": "markdown",
   "metadata": {},
   "source": [
    "### One-Class SVM"
   ]
  },
  {
   "cell_type": "code",
   "execution_count": null,
   "metadata": {},
   "outputs": [],
   "source": []
  },
  {
   "cell_type": "markdown",
   "metadata": {},
   "source": [
    "### Isolation Forest"
   ]
  },
  {
   "cell_type": "code",
   "execution_count": null,
   "metadata": {},
   "outputs": [],
   "source": []
  },
  {
   "cell_type": "markdown",
   "metadata": {},
   "source": [
    "### KNN"
   ]
  },
  {
   "cell_type": "code",
   "execution_count": null,
   "metadata": {},
   "outputs": [],
   "source": []
  },
  {
   "cell_type": "markdown",
   "metadata": {},
   "source": [
    "## Quality metrics"
   ]
  },
  {
   "cell_type": "markdown",
   "metadata": {},
   "source": [
    "### ARI"
   ]
  },
  {
   "cell_type": "code",
   "execution_count": null,
   "metadata": {},
   "outputs": [],
   "source": []
  },
  {
   "cell_type": "markdown",
   "metadata": {},
   "source": [
    "### MI"
   ]
  },
  {
   "cell_type": "code",
   "execution_count": null,
   "metadata": {},
   "outputs": [],
   "source": []
  },
  {
   "cell_type": "markdown",
   "metadata": {},
   "source": [
    "### AMI"
   ]
  },
  {
   "cell_type": "code",
   "execution_count": null,
   "metadata": {},
   "outputs": [],
   "source": []
  },
  {
   "cell_type": "markdown",
   "metadata": {},
   "source": [
    "### NMI"
   ]
  },
  {
   "cell_type": "code",
   "execution_count": null,
   "metadata": {},
   "outputs": [],
   "source": []
  },
  {
   "cell_type": "markdown",
   "metadata": {},
   "source": [
    "### Silhouette Coefficient"
   ]
  },
  {
   "cell_type": "code",
   "execution_count": null,
   "metadata": {},
   "outputs": [],
   "source": []
  },
  {
   "cell_type": "markdown",
   "metadata": {},
   "source": [
    "### Calinski-Harabaz Index"
   ]
  },
  {
   "cell_type": "code",
   "execution_count": null,
   "metadata": {},
   "outputs": [],
   "source": []
  },
  {
   "cell_type": "markdown",
   "metadata": {},
   "source": [
    "# CONCLUSION"
   ]
  },
  {
   "cell_type": "code",
   "execution_count": null,
   "metadata": {},
   "outputs": [],
   "source": []
  }
 ],
 "metadata": {
  "kernelspec": {
   "display_name": "Python 3",
   "language": "python",
   "name": "python3"
  },
  "language_info": {
   "codemirror_mode": {
    "name": "ipython",
    "version": 3
   },
   "file_extension": ".py",
   "mimetype": "text/x-python",
   "name": "python",
   "nbconvert_exporter": "python",
   "pygments_lexer": "ipython3",
   "version": "3.6.4"
  }
 },
 "nbformat": 4,
 "nbformat_minor": 2
}
