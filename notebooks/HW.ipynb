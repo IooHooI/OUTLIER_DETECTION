{
 "cells": [
  {
   "cell_type": "markdown",
   "metadata": {
    "toc": true
   },
   "source": [
    "<h1>Table of Contents<span class=\"tocSkip\"></span></h1>\n",
    "<div class=\"toc\"><ul class=\"toc-item\"><li><span><a href=\"#Imports-necessary\" data-toc-modified-id=\"Imports-necessary-1\"><span class=\"toc-item-num\">1&nbsp;&nbsp;</span>Imports necessary</a></span></li><li><span><a href=\"#EDA\" data-toc-modified-id=\"EDA-2\"><span class=\"toc-item-num\">2&nbsp;&nbsp;</span>EDA</a></span><ul class=\"toc-item\"><li><span><a href=\"#Read-dataset\" data-toc-modified-id=\"Read-dataset-2.1\"><span class=\"toc-item-num\">2.1&nbsp;&nbsp;</span>Read dataset</a></span></li><li><span><a href=\"#Dataset-description\" data-toc-modified-id=\"Dataset-description-2.2\"><span class=\"toc-item-num\">2.2&nbsp;&nbsp;</span>Dataset description</a></span></li><li><span><a href=\"#Dimensionality-reduction\" data-toc-modified-id=\"Dimensionality-reduction-2.3\"><span class=\"toc-item-num\">2.3&nbsp;&nbsp;</span>Dimensionality reduction</a></span><ul class=\"toc-item\"><li><span><a href=\"#PCA\" data-toc-modified-id=\"PCA-2.3.1\"><span class=\"toc-item-num\">2.3.1&nbsp;&nbsp;</span>PCA</a></span></li></ul></li></ul></li><li><span><a href=\"#Solution\" data-toc-modified-id=\"Solution-3\"><span class=\"toc-item-num\">3&nbsp;&nbsp;</span>Solution</a></span><ul class=\"toc-item\"><li><span><a href=\"#Supervised-part\" data-toc-modified-id=\"Supervised-part-3.1\"><span class=\"toc-item-num\">3.1&nbsp;&nbsp;</span>Supervised part</a></span><ul class=\"toc-item\"><li><span><a href=\"#Original-dimensionality\" data-toc-modified-id=\"Original-dimensionality-3.1.1\"><span class=\"toc-item-num\">3.1.1&nbsp;&nbsp;</span>Original dimensionality</a></span><ul class=\"toc-item\"><li><span><a href=\"#Logistic-regression\" data-toc-modified-id=\"Logistic-regression-3.1.1.1\"><span class=\"toc-item-num\">3.1.1.1&nbsp;&nbsp;</span>Logistic regression</a></span></li><li><span><a href=\"#Linear-SVM\" data-toc-modified-id=\"Linear-SVM-3.1.1.2\"><span class=\"toc-item-num\">3.1.1.2&nbsp;&nbsp;</span>Linear SVM</a></span></li><li><span><a href=\"#KNN\" data-toc-modified-id=\"KNN-3.1.1.3\"><span class=\"toc-item-num\">3.1.1.3&nbsp;&nbsp;</span>KNN</a></span></li></ul></li><li><span><a href=\"#PCA-dimensionality\" data-toc-modified-id=\"PCA-dimensionality-3.1.2\"><span class=\"toc-item-num\">3.1.2&nbsp;&nbsp;</span>PCA dimensionality</a></span><ul class=\"toc-item\"><li><span><a href=\"#Logistic-regression\" data-toc-modified-id=\"Logistic-regression-3.1.2.1\"><span class=\"toc-item-num\">3.1.2.1&nbsp;&nbsp;</span>Logistic regression</a></span></li><li><span><a href=\"#SVM\" data-toc-modified-id=\"SVM-3.1.2.2\"><span class=\"toc-item-num\">3.1.2.2&nbsp;&nbsp;</span>SVM</a></span></li><li><span><a href=\"#KNN\" data-toc-modified-id=\"KNN-3.1.2.3\"><span class=\"toc-item-num\">3.1.2.3&nbsp;&nbsp;</span>KNN</a></span></li></ul></li><li><span><a href=\"#Quality-metrics\" data-toc-modified-id=\"Quality-metrics-3.1.3\"><span class=\"toc-item-num\">3.1.3&nbsp;&nbsp;</span>Quality metrics</a></span><ul class=\"toc-item\"><li><span><a href=\"#ROC-AUC\" data-toc-modified-id=\"ROC-AUC-3.1.3.1\"><span class=\"toc-item-num\">3.1.3.1&nbsp;&nbsp;</span>ROC-AUC</a></span></li><li><span><a href=\"#PR-AUC\" data-toc-modified-id=\"PR-AUC-3.1.3.2\"><span class=\"toc-item-num\">3.1.3.2&nbsp;&nbsp;</span>PR-AUC</a></span></li></ul></li></ul></li><li><span><a href=\"#Feature-engineering\" data-toc-modified-id=\"Feature-engineering-3.2\"><span class=\"toc-item-num\">3.2&nbsp;&nbsp;</span>Feature engineering</a></span></li><li><span><a href=\"#Unsupervised-part\" data-toc-modified-id=\"Unsupervised-part-3.3\"><span class=\"toc-item-num\">3.3&nbsp;&nbsp;</span>Unsupervised part</a></span><ul class=\"toc-item\"><li><span><a href=\"#DBSCAN\" data-toc-modified-id=\"DBSCAN-3.3.1\"><span class=\"toc-item-num\">3.3.1&nbsp;&nbsp;</span>DBSCAN</a></span></li><li><span><a href=\"#One-Class-SVM\" data-toc-modified-id=\"One-Class-SVM-3.3.2\"><span class=\"toc-item-num\">3.3.2&nbsp;&nbsp;</span>One-Class SVM</a></span></li><li><span><a href=\"#Isolation-Forest\" data-toc-modified-id=\"Isolation-Forest-3.3.3\"><span class=\"toc-item-num\">3.3.3&nbsp;&nbsp;</span>Isolation Forest</a></span></li><li><span><a href=\"#KNN\" data-toc-modified-id=\"KNN-3.3.4\"><span class=\"toc-item-num\">3.3.4&nbsp;&nbsp;</span>KNN</a></span></li><li><span><a href=\"#Quality-metrics\" data-toc-modified-id=\"Quality-metrics-3.3.5\"><span class=\"toc-item-num\">3.3.5&nbsp;&nbsp;</span>Quality metrics</a></span><ul class=\"toc-item\"><li><span><a href=\"#ARI\" data-toc-modified-id=\"ARI-3.3.5.1\"><span class=\"toc-item-num\">3.3.5.1&nbsp;&nbsp;</span>ARI</a></span></li><li><span><a href=\"#MI\" data-toc-modified-id=\"MI-3.3.5.2\"><span class=\"toc-item-num\">3.3.5.2&nbsp;&nbsp;</span>MI</a></span></li><li><span><a href=\"#AMI\" data-toc-modified-id=\"AMI-3.3.5.3\"><span class=\"toc-item-num\">3.3.5.3&nbsp;&nbsp;</span>AMI</a></span></li><li><span><a href=\"#NMI\" data-toc-modified-id=\"NMI-3.3.5.4\"><span class=\"toc-item-num\">3.3.5.4&nbsp;&nbsp;</span>NMI</a></span></li><li><span><a href=\"#Silhouette-Coefficient\" data-toc-modified-id=\"Silhouette-Coefficient-3.3.5.5\"><span class=\"toc-item-num\">3.3.5.5&nbsp;&nbsp;</span>Silhouette Coefficient</a></span></li><li><span><a href=\"#Calinski-Harabaz-Index\" data-toc-modified-id=\"Calinski-Harabaz-Index-3.3.5.6\"><span class=\"toc-item-num\">3.3.5.6&nbsp;&nbsp;</span>Calinski-Harabaz Index</a></span></li></ul></li></ul></li></ul></li><li><span><a href=\"#CONCLUSION\" data-toc-modified-id=\"CONCLUSION-4\"><span class=\"toc-item-num\">4&nbsp;&nbsp;</span>CONCLUSION</a></span></li></ul></div>"
   ]
  },
  {
   "cell_type": "markdown",
   "metadata": {
    "heading_collapsed": true
   },
   "source": [
    "# Imports necessary"
   ]
  },
  {
   "cell_type": "code",
   "execution_count": 1,
   "metadata": {
    "hidden": true
   },
   "outputs": [],
   "source": [
    "import sys\n",
    "sys.path.append('..')"
   ]
  },
  {
   "cell_type": "code",
   "execution_count": 2,
   "metadata": {
    "hidden": true
   },
   "outputs": [],
   "source": [
    "from source.code.od_etl import ODETL"
   ]
  },
  {
   "cell_type": "code",
   "execution_count": 3,
   "metadata": {
    "hidden": true
   },
   "outputs": [],
   "source": [
    "import pandas_profiling\n",
    "\n",
    "from scipy.io import arff\n",
    "import pandas as pd\n",
    "\n",
    "import seaborn as sns\n",
    "import matplotlib.pyplot as plt\n",
    "\n",
    "from sklearn.linear_model import LogisticRegression\n",
    "from sklearn.svm import LinearSVC\n",
    "from sklearn.neighbors import KNeighborsClassifier\n",
    "\n",
    "from sklearn.model_selection import GridSearchCV\n",
    "from sklearn.model_selection import train_test_split\n",
    "\n",
    "from sklearn.decomposition import PCA\n",
    "from sklearn.manifold import TSNE\n",
    "\n",
    "from sklearn.metrics import roc_auc_score, make_scorer"
   ]
  },
  {
   "cell_type": "code",
   "execution_count": 4,
   "metadata": {
    "hidden": true
   },
   "outputs": [],
   "source": [
    "random_state = 42"
   ]
  },
  {
   "cell_type": "markdown",
   "metadata": {},
   "source": [
    "# EDA"
   ]
  },
  {
   "cell_type": "markdown",
   "metadata": {
    "heading_collapsed": true
   },
   "source": [
    "## Read dataset"
   ]
  },
  {
   "cell_type": "code",
   "execution_count": 6,
   "metadata": {
    "hidden": true,
    "scrolled": true
   },
   "outputs": [
    {
     "name": "stderr",
     "output_type": "stream",
     "text": [
      "\n",
      "INITIALIZING...\n",
      "INITIALIZATION HAS BEEN COMPLETED\n"
     ]
    }
   ],
   "source": [
    "od_etl = ODETL(local_path='../data/datasets/')"
   ]
  },
  {
   "cell_type": "code",
   "execution_count": 7,
   "metadata": {
    "hidden": true
   },
   "outputs": [
    {
     "name": "stderr",
     "output_type": "stream",
     "text": [
      "ARCHIVE FILE HAS BEEN ALREADY DOWNLOADED\n",
      "ARCHIVE FILE HAS BEEN ALREADY UNZIPPED\n"
     ]
    }
   ],
   "source": [
    "od_etl.get_raw_data(url='http://www.dbs.ifi.lmu.de/research/outlier-evaluation/input/ALOI.tar.gz')"
   ]
  },
  {
   "cell_type": "code",
   "execution_count": 8,
   "metadata": {
    "hidden": true
   },
   "outputs": [],
   "source": [
    "data = arff.loadarff('../data/datasets/ALOI_withoutdupl_norm.arff')\n",
    "df = pd.DataFrame(data[0])\n",
    "df.set_index('id', inplace=True)"
   ]
  },
  {
   "cell_type": "code",
   "execution_count": 9,
   "metadata": {
    "hidden": true,
    "scrolled": true
   },
   "outputs": [
    {
     "data": {
      "text/html": [
       "<div>\n",
       "<style scoped>\n",
       "    .dataframe tbody tr th:only-of-type {\n",
       "        vertical-align: middle;\n",
       "    }\n",
       "\n",
       "    .dataframe tbody tr th {\n",
       "        vertical-align: top;\n",
       "    }\n",
       "\n",
       "    .dataframe thead th {\n",
       "        text-align: right;\n",
       "    }\n",
       "</style>\n",
       "<table border=\"1\" class=\"dataframe\">\n",
       "  <thead>\n",
       "    <tr style=\"text-align: right;\">\n",
       "      <th></th>\n",
       "      <th>att1</th>\n",
       "      <th>att2</th>\n",
       "      <th>att3</th>\n",
       "      <th>att4</th>\n",
       "      <th>att5</th>\n",
       "      <th>att6</th>\n",
       "      <th>att7</th>\n",
       "      <th>att8</th>\n",
       "      <th>att9</th>\n",
       "      <th>att10</th>\n",
       "      <th>...</th>\n",
       "      <th>att19</th>\n",
       "      <th>att20</th>\n",
       "      <th>att21</th>\n",
       "      <th>att22</th>\n",
       "      <th>att23</th>\n",
       "      <th>att24</th>\n",
       "      <th>att25</th>\n",
       "      <th>att26</th>\n",
       "      <th>att27</th>\n",
       "      <th>outlier</th>\n",
       "    </tr>\n",
       "    <tr>\n",
       "      <th>id</th>\n",
       "      <th></th>\n",
       "      <th></th>\n",
       "      <th></th>\n",
       "      <th></th>\n",
       "      <th></th>\n",
       "      <th></th>\n",
       "      <th></th>\n",
       "      <th></th>\n",
       "      <th></th>\n",
       "      <th></th>\n",
       "      <th></th>\n",
       "      <th></th>\n",
       "      <th></th>\n",
       "      <th></th>\n",
       "      <th></th>\n",
       "      <th></th>\n",
       "      <th></th>\n",
       "      <th></th>\n",
       "      <th></th>\n",
       "      <th></th>\n",
       "      <th></th>\n",
       "    </tr>\n",
       "  </thead>\n",
       "  <tbody>\n",
       "    <tr>\n",
       "      <th>1.0</th>\n",
       "      <td>0.784999</td>\n",
       "      <td>0.000018</td>\n",
       "      <td>0.0</td>\n",
       "      <td>0.000093</td>\n",
       "      <td>0.0</td>\n",
       "      <td>0.0</td>\n",
       "      <td>0.0</td>\n",
       "      <td>0.0</td>\n",
       "      <td>0.0</td>\n",
       "      <td>0.139811</td>\n",
       "      <td>...</td>\n",
       "      <td>0.048171</td>\n",
       "      <td>0.001189</td>\n",
       "      <td>0.0</td>\n",
       "      <td>0.115728</td>\n",
       "      <td>0.023449</td>\n",
       "      <td>0.0002</td>\n",
       "      <td>0.000220</td>\n",
       "      <td>0.034952</td>\n",
       "      <td>0.046914</td>\n",
       "      <td>b\"'yes'\"</td>\n",
       "    </tr>\n",
       "    <tr>\n",
       "      <th>2.0</th>\n",
       "      <td>0.958088</td>\n",
       "      <td>0.000000</td>\n",
       "      <td>0.0</td>\n",
       "      <td>0.001671</td>\n",
       "      <td>0.0</td>\n",
       "      <td>0.0</td>\n",
       "      <td>0.0</td>\n",
       "      <td>0.0</td>\n",
       "      <td>0.0</td>\n",
       "      <td>0.019556</td>\n",
       "      <td>...</td>\n",
       "      <td>0.000000</td>\n",
       "      <td>0.000000</td>\n",
       "      <td>0.0</td>\n",
       "      <td>0.022035</td>\n",
       "      <td>0.007516</td>\n",
       "      <td>0.0000</td>\n",
       "      <td>0.000000</td>\n",
       "      <td>0.001033</td>\n",
       "      <td>0.000000</td>\n",
       "      <td>b\"'yes'\"</td>\n",
       "    </tr>\n",
       "    <tr>\n",
       "      <th>3.0</th>\n",
       "      <td>0.938768</td>\n",
       "      <td>0.000000</td>\n",
       "      <td>0.0</td>\n",
       "      <td>0.005146</td>\n",
       "      <td>0.0</td>\n",
       "      <td>0.0</td>\n",
       "      <td>0.0</td>\n",
       "      <td>0.0</td>\n",
       "      <td>0.0</td>\n",
       "      <td>0.018451</td>\n",
       "      <td>...</td>\n",
       "      <td>0.000000</td>\n",
       "      <td>0.000000</td>\n",
       "      <td>0.0</td>\n",
       "      <td>0.035542</td>\n",
       "      <td>0.011982</td>\n",
       "      <td>0.0000</td>\n",
       "      <td>0.001595</td>\n",
       "      <td>0.019520</td>\n",
       "      <td>0.000000</td>\n",
       "      <td>b\"'yes'\"</td>\n",
       "    </tr>\n",
       "    <tr>\n",
       "      <th>4.0</th>\n",
       "      <td>0.954775</td>\n",
       "      <td>0.000000</td>\n",
       "      <td>0.0</td>\n",
       "      <td>0.001427</td>\n",
       "      <td>0.0</td>\n",
       "      <td>0.0</td>\n",
       "      <td>0.0</td>\n",
       "      <td>0.0</td>\n",
       "      <td>0.0</td>\n",
       "      <td>0.024944</td>\n",
       "      <td>...</td>\n",
       "      <td>0.000000</td>\n",
       "      <td>0.000000</td>\n",
       "      <td>0.0</td>\n",
       "      <td>0.019941</td>\n",
       "      <td>0.000805</td>\n",
       "      <td>0.0000</td>\n",
       "      <td>0.000000</td>\n",
       "      <td>0.000035</td>\n",
       "      <td>0.000000</td>\n",
       "      <td>b\"'yes'\"</td>\n",
       "    </tr>\n",
       "    <tr>\n",
       "      <th>5.0</th>\n",
       "      <td>0.933601</td>\n",
       "      <td>0.000000</td>\n",
       "      <td>0.0</td>\n",
       "      <td>0.001682</td>\n",
       "      <td>0.0</td>\n",
       "      <td>0.0</td>\n",
       "      <td>0.0</td>\n",
       "      <td>0.0</td>\n",
       "      <td>0.0</td>\n",
       "      <td>0.037002</td>\n",
       "      <td>...</td>\n",
       "      <td>0.000000</td>\n",
       "      <td>0.000000</td>\n",
       "      <td>0.0</td>\n",
       "      <td>0.046759</td>\n",
       "      <td>0.002663</td>\n",
       "      <td>0.0000</td>\n",
       "      <td>0.000339</td>\n",
       "      <td>0.001359</td>\n",
       "      <td>0.000000</td>\n",
       "      <td>b\"'yes'\"</td>\n",
       "    </tr>\n",
       "  </tbody>\n",
       "</table>\n",
       "<p>5 rows × 28 columns</p>\n",
       "</div>"
      ],
      "text/plain": [
       "         att1      att2  att3      att4  att5  att6  att7  att8  att9  \\\n",
       "id                                                                      \n",
       "1.0  0.784999  0.000018   0.0  0.000093   0.0   0.0   0.0   0.0   0.0   \n",
       "2.0  0.958088  0.000000   0.0  0.001671   0.0   0.0   0.0   0.0   0.0   \n",
       "3.0  0.938768  0.000000   0.0  0.005146   0.0   0.0   0.0   0.0   0.0   \n",
       "4.0  0.954775  0.000000   0.0  0.001427   0.0   0.0   0.0   0.0   0.0   \n",
       "5.0  0.933601  0.000000   0.0  0.001682   0.0   0.0   0.0   0.0   0.0   \n",
       "\n",
       "        att10    ...        att19     att20  att21     att22     att23  \\\n",
       "id               ...                                                     \n",
       "1.0  0.139811    ...     0.048171  0.001189    0.0  0.115728  0.023449   \n",
       "2.0  0.019556    ...     0.000000  0.000000    0.0  0.022035  0.007516   \n",
       "3.0  0.018451    ...     0.000000  0.000000    0.0  0.035542  0.011982   \n",
       "4.0  0.024944    ...     0.000000  0.000000    0.0  0.019941  0.000805   \n",
       "5.0  0.037002    ...     0.000000  0.000000    0.0  0.046759  0.002663   \n",
       "\n",
       "      att24     att25     att26     att27   outlier  \n",
       "id                                                   \n",
       "1.0  0.0002  0.000220  0.034952  0.046914  b\"'yes'\"  \n",
       "2.0  0.0000  0.000000  0.001033  0.000000  b\"'yes'\"  \n",
       "3.0  0.0000  0.001595  0.019520  0.000000  b\"'yes'\"  \n",
       "4.0  0.0000  0.000000  0.000035  0.000000  b\"'yes'\"  \n",
       "5.0  0.0000  0.000339  0.001359  0.000000  b\"'yes'\"  \n",
       "\n",
       "[5 rows x 28 columns]"
      ]
     },
     "execution_count": 9,
     "metadata": {},
     "output_type": "execute_result"
    }
   ],
   "source": [
    "df.head()"
   ]
  },
  {
   "cell_type": "markdown",
   "metadata": {
    "heading_collapsed": true
   },
   "source": [
    "## Dataset description"
   ]
  },
  {
   "cell_type": "code",
   "execution_count": 10,
   "metadata": {
    "hidden": true,
    "scrolled": false
   },
   "outputs": [],
   "source": [
    "profiling_report = pandas_profiling.ProfileReport(df)"
   ]
  },
  {
   "cell_type": "code",
   "execution_count": 11,
   "metadata": {
    "hidden": true,
    "scrolled": false
   },
   "outputs": [
    {
     "data": {
      "text/plain": [
       "['__class__',\n",
       " '__delattr__',\n",
       " '__dict__',\n",
       " '__dir__',\n",
       " '__doc__',\n",
       " '__eq__',\n",
       " '__format__',\n",
       " '__ge__',\n",
       " '__getattribute__',\n",
       " '__gt__',\n",
       " '__hash__',\n",
       " '__init__',\n",
       " '__init_subclass__',\n",
       " '__le__',\n",
       " '__lt__',\n",
       " '__module__',\n",
       " '__ne__',\n",
       " '__new__',\n",
       " '__reduce__',\n",
       " '__reduce_ex__',\n",
       " '__repr__',\n",
       " '__setattr__',\n",
       " '__sizeof__',\n",
       " '__str__',\n",
       " '__subclasshook__',\n",
       " '__weakref__',\n",
       " '_repr_html_',\n",
       " 'description_set',\n",
       " 'file',\n",
       " 'get_description',\n",
       " 'get_rejected_variables',\n",
       " 'html',\n",
       " 'to_file',\n",
       " 'to_html']"
      ]
     },
     "execution_count": 11,
     "metadata": {},
     "output_type": "execute_result"
    }
   ],
   "source": [
    "dir(profiling_report)"
   ]
  },
  {
   "cell_type": "code",
   "execution_count": 12,
   "metadata": {
    "hidden": true
   },
   "outputs": [],
   "source": [
    "with open('../data/datasets/profiling_report.html', 'w') as profiling_report_html:\n",
    "    profiling_report_html.writelines(profiling_report.to_html())"
   ]
  },
  {
   "cell_type": "code",
   "execution_count": 13,
   "metadata": {
    "hidden": true
   },
   "outputs": [],
   "source": [
    "X = df[df.columns[0:-1]]\n",
    "y = df.outlier.apply(lambda x: x == b\"'yes'\").apply(int)"
   ]
  },
  {
   "cell_type": "code",
   "execution_count": 14,
   "metadata": {
    "hidden": true
   },
   "outputs": [],
   "source": [
    "X_train, X_validation, y_train, y_validation = train_test_split(X, y, test_size=0.3, stratify=y, random_state=random_state)"
   ]
  },
  {
   "cell_type": "markdown",
   "metadata": {},
   "source": [
    "## Dimensionality reduction"
   ]
  },
  {
   "cell_type": "markdown",
   "metadata": {},
   "source": [
    "### PCA"
   ]
  },
  {
   "cell_type": "code",
   "execution_count": 15,
   "metadata": {},
   "outputs": [],
   "source": [
    "pca = PCA(n_components=2)"
   ]
  },
  {
   "cell_type": "code",
   "execution_count": 16,
   "metadata": {},
   "outputs": [],
   "source": [
    "X_train_pca_2 = pca.fit_transform(X_train)"
   ]
  },
  {
   "cell_type": "code",
   "execution_count": 17,
   "metadata": {},
   "outputs": [],
   "source": [
    "X_validation_pca_2 = pca.transform(X_validation)"
   ]
  },
  {
   "cell_type": "code",
   "execution_count": 18,
   "metadata": {},
   "outputs": [
    {
     "data": {
      "text/plain": [
       "(34673, 2)"
      ]
     },
     "execution_count": 18,
     "metadata": {},
     "output_type": "execute_result"
    }
   ],
   "source": [
    "X_train_pca_2.shape"
   ]
  },
  {
   "cell_type": "code",
   "execution_count": 19,
   "metadata": {},
   "outputs": [
    {
     "data": {
      "text/plain": [
       "(14861, 2)"
      ]
     },
     "execution_count": 19,
     "metadata": {},
     "output_type": "execute_result"
    }
   ],
   "source": [
    "X_validation_pca_2.shape"
   ]
  },
  {
   "cell_type": "code",
   "execution_count": 20,
   "metadata": {},
   "outputs": [],
   "source": [
    "pca = PCA(n_components=3)"
   ]
  },
  {
   "cell_type": "code",
   "execution_count": 21,
   "metadata": {},
   "outputs": [],
   "source": [
    "X_train_pca_3 = pca.fit_transform(X_train)"
   ]
  },
  {
   "cell_type": "code",
   "execution_count": 22,
   "metadata": {},
   "outputs": [],
   "source": [
    "X_validation_pca_3 = pca.transform(X_validation)"
   ]
  },
  {
   "cell_type": "code",
   "execution_count": 23,
   "metadata": {},
   "outputs": [
    {
     "data": {
      "text/plain": [
       "(34673, 3)"
      ]
     },
     "execution_count": 23,
     "metadata": {},
     "output_type": "execute_result"
    }
   ],
   "source": [
    "X_train_pca_3.shape"
   ]
  },
  {
   "cell_type": "code",
   "execution_count": 24,
   "metadata": {},
   "outputs": [
    {
     "data": {
      "text/plain": [
       "(14861, 3)"
      ]
     },
     "execution_count": 24,
     "metadata": {},
     "output_type": "execute_result"
    }
   ],
   "source": [
    "X_validation_pca_3.shape"
   ]
  },
  {
   "cell_type": "markdown",
   "metadata": {},
   "source": [
    "# Solution"
   ]
  },
  {
   "cell_type": "markdown",
   "metadata": {},
   "source": [
    "## Supervised part"
   ]
  },
  {
   "cell_type": "markdown",
   "metadata": {},
   "source": [
    "### Original dimensionality"
   ]
  },
  {
   "cell_type": "markdown",
   "metadata": {},
   "source": [
    "#### Logistic regression"
   ]
  },
  {
   "cell_type": "code",
   "execution_count": 28,
   "metadata": {},
   "outputs": [],
   "source": [
    "lr = LogisticRegression(random_state=random_state)"
   ]
  },
  {
   "cell_type": "code",
   "execution_count": 29,
   "metadata": {},
   "outputs": [
    {
     "data": {
      "text/plain": [
       "{'C': 1.0,\n",
       " 'class_weight': None,\n",
       " 'dual': False,\n",
       " 'fit_intercept': True,\n",
       " 'intercept_scaling': 1,\n",
       " 'max_iter': 100,\n",
       " 'multi_class': 'ovr',\n",
       " 'n_jobs': 1,\n",
       " 'penalty': 'l2',\n",
       " 'random_state': 42,\n",
       " 'solver': 'liblinear',\n",
       " 'tol': 0.0001,\n",
       " 'verbose': 0,\n",
       " 'warm_start': False}"
      ]
     },
     "execution_count": 29,
     "metadata": {},
     "output_type": "execute_result"
    }
   ],
   "source": [
    "lr.get_params()"
   ]
  },
  {
   "cell_type": "code",
   "execution_count": 30,
   "metadata": {
    "code_folding": []
   },
   "outputs": [],
   "source": [
    "lr_params_grid = {\n",
    "    'C': [1, 2, 3],\n",
    "    'penalty': ['l1', 'l2']\n",
    "}"
   ]
  },
  {
   "cell_type": "code",
   "execution_count": 31,
   "metadata": {},
   "outputs": [],
   "source": [
    "lr_gs_origin = GridSearchCV(lr, param_grid=lr_params_grid, scoring=make_scorer(roc_auc_score), verbose=10)"
   ]
  },
  {
   "cell_type": "code",
   "execution_count": 32,
   "metadata": {
    "scrolled": false
   },
   "outputs": [
    {
     "name": "stdout",
     "output_type": "stream",
     "text": [
      "Fitting 3 folds for each of 6 candidates, totalling 18 fits\n",
      "[CV] C=1, penalty=l1 .................................................\n",
      "[CV] ....................... C=1, penalty=l1, score=0.5, total=   1.8s\n",
      "[CV] C=1, penalty=l1 .................................................\n"
     ]
    },
    {
     "name": "stderr",
     "output_type": "stream",
     "text": [
      "[Parallel(n_jobs=1)]: Done   1 out of   1 | elapsed:    1.8s remaining:    0.0s\n"
     ]
    },
    {
     "name": "stdout",
     "output_type": "stream",
     "text": [
      "[CV] ....................... C=1, penalty=l1, score=0.5, total=   1.3s\n",
      "[CV] C=1, penalty=l1 .................................................\n"
     ]
    },
    {
     "name": "stderr",
     "output_type": "stream",
     "text": [
      "[Parallel(n_jobs=1)]: Done   2 out of   2 | elapsed:    3.1s remaining:    0.0s\n"
     ]
    },
    {
     "name": "stdout",
     "output_type": "stream",
     "text": [
      "[CV] ....................... C=1, penalty=l1, score=0.5, total=   0.7s\n",
      "[CV] C=1, penalty=l2 .................................................\n",
      "[CV] ....................... C=1, penalty=l2, score=0.5, total=   0.1s\n",
      "[CV] C=1, penalty=l2 .................................................\n"
     ]
    },
    {
     "name": "stderr",
     "output_type": "stream",
     "text": [
      "[Parallel(n_jobs=1)]: Done   3 out of   3 | elapsed:    3.8s remaining:    0.0s\n",
      "[Parallel(n_jobs=1)]: Done   4 out of   4 | elapsed:    4.0s remaining:    0.0s\n"
     ]
    },
    {
     "name": "stdout",
     "output_type": "stream",
     "text": [
      "[CV] ....................... C=1, penalty=l2, score=0.5, total=   0.1s\n",
      "[CV] C=1, penalty=l2 .................................................\n",
      "[CV] ....................... C=1, penalty=l2, score=0.5, total=   0.1s\n",
      "[CV] C=2, penalty=l1 .................................................\n"
     ]
    },
    {
     "name": "stderr",
     "output_type": "stream",
     "text": [
      "[Parallel(n_jobs=1)]: Done   5 out of   5 | elapsed:    4.1s remaining:    0.0s\n",
      "[Parallel(n_jobs=1)]: Done   6 out of   6 | elapsed:    4.2s remaining:    0.0s\n"
     ]
    },
    {
     "name": "stdout",
     "output_type": "stream",
     "text": [
      "[CV] ....................... C=2, penalty=l1, score=0.5, total=   2.7s\n",
      "[CV] C=2, penalty=l1 .................................................\n"
     ]
    },
    {
     "name": "stderr",
     "output_type": "stream",
     "text": [
      "[Parallel(n_jobs=1)]: Done   7 out of   7 | elapsed:    6.9s remaining:    0.0s\n"
     ]
    },
    {
     "name": "stdout",
     "output_type": "stream",
     "text": [
      "[CV] ....................... C=2, penalty=l1, score=0.5, total=   2.8s\n",
      "[CV] C=2, penalty=l1 .................................................\n"
     ]
    },
    {
     "name": "stderr",
     "output_type": "stream",
     "text": [
      "[Parallel(n_jobs=1)]: Done   8 out of   8 | elapsed:    9.7s remaining:    0.0s\n"
     ]
    },
    {
     "name": "stdout",
     "output_type": "stream",
     "text": [
      "[CV] ....................... C=2, penalty=l1, score=0.5, total=   1.2s\n",
      "[CV] C=2, penalty=l2 .................................................\n",
      "[CV] ....................... C=2, penalty=l2, score=0.5, total=   0.1s\n",
      "[CV] C=2, penalty=l2 .................................................\n"
     ]
    },
    {
     "name": "stderr",
     "output_type": "stream",
     "text": [
      "[Parallel(n_jobs=1)]: Done   9 out of   9 | elapsed:   10.9s remaining:    0.0s\n"
     ]
    },
    {
     "name": "stdout",
     "output_type": "stream",
     "text": [
      "[CV] ....................... C=2, penalty=l2, score=0.5, total=   0.1s\n",
      "[CV] C=2, penalty=l2 .................................................\n",
      "[CV] ....................... C=2, penalty=l2, score=0.5, total=   0.1s\n",
      "[CV] C=3, penalty=l1 .................................................\n",
      "[CV] ....................... C=3, penalty=l1, score=0.5, total=   1.3s\n",
      "[CV] C=3, penalty=l1 .................................................\n",
      "[CV] ....................... C=3, penalty=l1, score=0.5, total=   2.8s\n",
      "[CV] C=3, penalty=l1 .................................................\n",
      "[CV] ........ C=3, penalty=l1, score=0.4999553770638108, total=   0.9s\n",
      "[CV] C=3, penalty=l2 .................................................\n",
      "[CV] ....................... C=3, penalty=l2, score=0.5, total=   0.1s\n",
      "[CV] C=3, penalty=l2 .................................................\n",
      "[CV] ....................... C=3, penalty=l2, score=0.5, total=   0.2s\n",
      "[CV] C=3, penalty=l2 .................................................\n",
      "[CV] ....................... C=3, penalty=l2, score=0.5, total=   0.1s\n"
     ]
    },
    {
     "name": "stderr",
     "output_type": "stream",
     "text": [
      "[Parallel(n_jobs=1)]: Done  18 out of  18 | elapsed:   16.8s finished\n"
     ]
    },
    {
     "data": {
      "text/plain": [
       "GridSearchCV(cv=None, error_score='raise',\n",
       "       estimator=LogisticRegression(C=1.0, class_weight=None, dual=False, fit_intercept=True,\n",
       "          intercept_scaling=1, max_iter=100, multi_class='ovr', n_jobs=1,\n",
       "          penalty='l2', random_state=42, solver='liblinear', tol=0.0001,\n",
       "          verbose=0, warm_start=False),\n",
       "       fit_params=None, iid=True, n_jobs=1,\n",
       "       param_grid={'C': [1, 2, 3], 'penalty': ['l1', 'l2']},\n",
       "       pre_dispatch='2*n_jobs', refit=True, return_train_score='warn',\n",
       "       scoring=make_scorer(roc_auc_score), verbose=10)"
      ]
     },
     "execution_count": 32,
     "metadata": {},
     "output_type": "execute_result"
    }
   ],
   "source": [
    "lr_gs_origin.fit(X_train, y_train)"
   ]
  },
  {
   "cell_type": "markdown",
   "metadata": {},
   "source": [
    "#### Linear SVM"
   ]
  },
  {
   "cell_type": "code",
   "execution_count": 33,
   "metadata": {},
   "outputs": [],
   "source": [
    "svm = LinearSVC(random_state=random_state)"
   ]
  },
  {
   "cell_type": "code",
   "execution_count": 34,
   "metadata": {},
   "outputs": [
    {
     "data": {
      "text/plain": [
       "{'C': 1.0,\n",
       " 'class_weight': None,\n",
       " 'dual': True,\n",
       " 'fit_intercept': True,\n",
       " 'intercept_scaling': 1,\n",
       " 'loss': 'squared_hinge',\n",
       " 'max_iter': 1000,\n",
       " 'multi_class': 'ovr',\n",
       " 'penalty': 'l2',\n",
       " 'random_state': 42,\n",
       " 'tol': 0.0001,\n",
       " 'verbose': 0}"
      ]
     },
     "execution_count": 34,
     "metadata": {},
     "output_type": "execute_result"
    }
   ],
   "source": [
    "svm.get_params()"
   ]
  },
  {
   "cell_type": "code",
   "execution_count": 35,
   "metadata": {
    "code_folding": []
   },
   "outputs": [],
   "source": [
    "svm_params_grid = {\n",
    "    'C': [1, 2, 3],\n",
    "    'intercept_scaling': [1, 2, 3]\n",
    "}"
   ]
  },
  {
   "cell_type": "code",
   "execution_count": 36,
   "metadata": {},
   "outputs": [],
   "source": [
    "svm_gs_origin = GridSearchCV(svm, param_grid=svm_params_grid, scoring=make_scorer(roc_auc_score), verbose=10)"
   ]
  },
  {
   "cell_type": "code",
   "execution_count": 37,
   "metadata": {
    "scrolled": false
   },
   "outputs": [
    {
     "name": "stdout",
     "output_type": "stream",
     "text": [
      "Fitting 3 folds for each of 9 candidates, totalling 27 fits\n",
      "[CV] C=1, intercept_scaling=1 ........................................\n",
      "[CV] .............. C=1, intercept_scaling=1, score=0.5, total=   0.4s\n",
      "[CV] C=1, intercept_scaling=1 ........................................\n"
     ]
    },
    {
     "name": "stderr",
     "output_type": "stream",
     "text": [
      "[Parallel(n_jobs=1)]: Done   1 out of   1 | elapsed:    0.4s remaining:    0.0s\n"
     ]
    },
    {
     "name": "stdout",
     "output_type": "stream",
     "text": [
      "[CV] .............. C=1, intercept_scaling=1, score=0.5, total=   0.3s\n",
      "[CV] C=1, intercept_scaling=1 ........................................\n"
     ]
    },
    {
     "name": "stderr",
     "output_type": "stream",
     "text": [
      "[Parallel(n_jobs=1)]: Done   2 out of   2 | elapsed:    0.7s remaining:    0.0s\n"
     ]
    },
    {
     "name": "stdout",
     "output_type": "stream",
     "text": [
      "[CV] .............. C=1, intercept_scaling=1, score=0.5, total=   0.4s\n",
      "[CV] C=1, intercept_scaling=2 ........................................\n"
     ]
    },
    {
     "name": "stderr",
     "output_type": "stream",
     "text": [
      "[Parallel(n_jobs=1)]: Done   3 out of   3 | elapsed:    1.1s remaining:    0.0s\n"
     ]
    },
    {
     "name": "stdout",
     "output_type": "stream",
     "text": [
      "[CV] .............. C=1, intercept_scaling=2, score=0.5, total=   0.7s\n",
      "[CV] C=1, intercept_scaling=2 ........................................\n"
     ]
    },
    {
     "name": "stderr",
     "output_type": "stream",
     "text": [
      "[Parallel(n_jobs=1)]: Done   4 out of   4 | elapsed:    1.9s remaining:    0.0s\n"
     ]
    },
    {
     "name": "stdout",
     "output_type": "stream",
     "text": [
      "[CV] .............. C=1, intercept_scaling=2, score=0.5, total=   0.6s\n",
      "[CV] C=1, intercept_scaling=2 ........................................\n"
     ]
    },
    {
     "name": "stderr",
     "output_type": "stream",
     "text": [
      "[Parallel(n_jobs=1)]: Done   5 out of   5 | elapsed:    2.5s remaining:    0.0s\n"
     ]
    },
    {
     "name": "stdout",
     "output_type": "stream",
     "text": [
      "[CV] .............. C=1, intercept_scaling=2, score=0.5, total=   0.8s\n",
      "[CV] C=1, intercept_scaling=3 ........................................\n"
     ]
    },
    {
     "name": "stderr",
     "output_type": "stream",
     "text": [
      "[Parallel(n_jobs=1)]: Done   6 out of   6 | elapsed:    3.3s remaining:    0.0s\n"
     ]
    },
    {
     "name": "stdout",
     "output_type": "stream",
     "text": [
      "[CV] .............. C=1, intercept_scaling=3, score=0.5, total=   1.7s\n",
      "[CV] C=1, intercept_scaling=3 ........................................\n"
     ]
    },
    {
     "name": "stderr",
     "output_type": "stream",
     "text": [
      "[Parallel(n_jobs=1)]: Done   7 out of   7 | elapsed:    5.0s remaining:    0.0s\n"
     ]
    },
    {
     "name": "stdout",
     "output_type": "stream",
     "text": [
      "[CV] .............. C=1, intercept_scaling=3, score=0.5, total=   1.3s\n",
      "[CV] C=1, intercept_scaling=3 ........................................\n"
     ]
    },
    {
     "name": "stderr",
     "output_type": "stream",
     "text": [
      "[Parallel(n_jobs=1)]: Done   8 out of   8 | elapsed:    6.3s remaining:    0.0s\n"
     ]
    },
    {
     "name": "stdout",
     "output_type": "stream",
     "text": [
      "[CV] .............. C=1, intercept_scaling=3, score=0.5, total=   1.2s\n",
      "[CV] C=2, intercept_scaling=1 ........................................\n"
     ]
    },
    {
     "name": "stderr",
     "output_type": "stream",
     "text": [
      "[Parallel(n_jobs=1)]: Done   9 out of   9 | elapsed:    7.5s remaining:    0.0s\n"
     ]
    },
    {
     "name": "stdout",
     "output_type": "stream",
     "text": [
      "[CV] .............. C=2, intercept_scaling=1, score=0.5, total=   0.5s\n",
      "[CV] C=2, intercept_scaling=1 ........................................\n",
      "[CV] .............. C=2, intercept_scaling=1, score=0.5, total=   0.5s\n",
      "[CV] C=2, intercept_scaling=1 ........................................\n",
      "[CV] .............. C=2, intercept_scaling=1, score=0.5, total=   0.6s\n",
      "[CV] C=2, intercept_scaling=2 ........................................\n",
      "[CV] .............. C=2, intercept_scaling=2, score=0.5, total=   1.6s\n",
      "[CV] C=2, intercept_scaling=2 ........................................\n",
      "[CV] .............. C=2, intercept_scaling=2, score=0.5, total=   1.2s\n",
      "[CV] C=2, intercept_scaling=2 ........................................\n",
      "[CV] .............. C=2, intercept_scaling=2, score=0.5, total=   1.2s\n",
      "[CV] C=2, intercept_scaling=3 ........................................\n",
      "[CV] .............. C=2, intercept_scaling=3, score=0.5, total=   3.4s\n",
      "[CV] C=2, intercept_scaling=3 ........................................\n",
      "[CV] .............. C=2, intercept_scaling=3, score=0.5, total=   3.8s\n",
      "[CV] C=2, intercept_scaling=3 ........................................\n",
      "[CV] .............. C=2, intercept_scaling=3, score=0.5, total=   2.4s\n",
      "[CV] C=3, intercept_scaling=1 ........................................\n",
      "[CV] .............. C=3, intercept_scaling=1, score=0.5, total=   0.8s\n",
      "[CV] C=3, intercept_scaling=1 ........................................\n",
      "[CV] .............. C=3, intercept_scaling=1, score=0.5, total=   0.8s\n",
      "[CV] C=3, intercept_scaling=1 ........................................\n",
      "[CV] .............. C=3, intercept_scaling=1, score=0.5, total=   0.8s\n",
      "[CV] C=3, intercept_scaling=2 ........................................\n",
      "[CV] .............. C=3, intercept_scaling=2, score=0.5, total=   2.8s\n",
      "[CV] C=3, intercept_scaling=2 ........................................\n",
      "[CV] .............. C=3, intercept_scaling=2, score=0.5, total=   2.0s\n",
      "[CV] C=3, intercept_scaling=2 ........................................\n",
      "[CV] .............. C=3, intercept_scaling=2, score=0.5, total=   2.1s\n",
      "[CV] C=3, intercept_scaling=3 ........................................\n",
      "[CV] .............. C=3, intercept_scaling=3, score=0.5, total=   5.0s\n",
      "[CV] C=3, intercept_scaling=3 ........................................\n",
      "[CV] .............. C=3, intercept_scaling=3, score=0.5, total=   5.5s\n",
      "[CV] C=3, intercept_scaling=3 ........................................\n",
      "[CV] .............. C=3, intercept_scaling=3, score=0.5, total=   3.7s\n"
     ]
    },
    {
     "name": "stderr",
     "output_type": "stream",
     "text": [
      "[Parallel(n_jobs=1)]: Done  27 out of  27 | elapsed:   46.5s finished\n"
     ]
    },
    {
     "data": {
      "text/plain": [
       "GridSearchCV(cv=None, error_score='raise',\n",
       "       estimator=LinearSVC(C=1.0, class_weight=None, dual=True, fit_intercept=True,\n",
       "     intercept_scaling=1, loss='squared_hinge', max_iter=1000,\n",
       "     multi_class='ovr', penalty='l2', random_state=42, tol=0.0001,\n",
       "     verbose=0),\n",
       "       fit_params=None, iid=True, n_jobs=1,\n",
       "       param_grid={'C': [1, 2, 3], 'intercept_scaling': [1, 2, 3]},\n",
       "       pre_dispatch='2*n_jobs', refit=True, return_train_score='warn',\n",
       "       scoring=make_scorer(roc_auc_score), verbose=10)"
      ]
     },
     "execution_count": 37,
     "metadata": {},
     "output_type": "execute_result"
    }
   ],
   "source": [
    "svm_gs_origin.fit(X_train, y_train)"
   ]
  },
  {
   "cell_type": "markdown",
   "metadata": {},
   "source": [
    "#### KNN"
   ]
  },
  {
   "cell_type": "code",
   "execution_count": 38,
   "metadata": {},
   "outputs": [],
   "source": [
    "knn = KNeighborsClassifier()"
   ]
  },
  {
   "cell_type": "code",
   "execution_count": 39,
   "metadata": {},
   "outputs": [
    {
     "data": {
      "text/plain": [
       "{'algorithm': 'auto',\n",
       " 'leaf_size': 30,\n",
       " 'metric': 'minkowski',\n",
       " 'metric_params': None,\n",
       " 'n_jobs': 1,\n",
       " 'n_neighbors': 5,\n",
       " 'p': 2,\n",
       " 'weights': 'uniform'}"
      ]
     },
     "execution_count": 39,
     "metadata": {},
     "output_type": "execute_result"
    }
   ],
   "source": [
    "knn.get_params()"
   ]
  },
  {
   "cell_type": "code",
   "execution_count": 40,
   "metadata": {},
   "outputs": [],
   "source": [
    "knn_params_grid = {\n",
    "    'leaf_size': [10, 20, 25],\n",
    "    'p': [1, 2, 3],\n",
    "    'n_neighbors': [5, 7]\n",
    "}"
   ]
  },
  {
   "cell_type": "code",
   "execution_count": null,
   "metadata": {},
   "outputs": [],
   "source": [
    "knn_gs_origin = GridSearchCV(knn, param_grid=knn_params_grid, scoring=make_scorer(roc_auc_score), verbose=10)"
   ]
  },
  {
   "cell_type": "code",
   "execution_count": null,
   "metadata": {},
   "outputs": [
    {
     "name": "stdout",
     "output_type": "stream",
     "text": [
      "Fitting 3 folds for each of 18 candidates, totalling 54 fits\n",
      "[CV] leaf_size=10, n_neighbors=5, p=1 ................................\n",
      "[CV]  leaf_size=10, n_neighbors=5, p=1, score=0.5191724603702562, total=   6.1s\n",
      "[CV] leaf_size=10, n_neighbors=5, p=1 ................................\n"
     ]
    },
    {
     "name": "stderr",
     "output_type": "stream",
     "text": [
      "[Parallel(n_jobs=1)]: Done   1 out of   1 | elapsed:   16.2s remaining:    0.0s\n"
     ]
    },
    {
     "name": "stdout",
     "output_type": "stream",
     "text": [
      "[CV]  leaf_size=10, n_neighbors=5, p=1, score=0.5238353945938052, total=   5.6s\n",
      "[CV] leaf_size=10, n_neighbors=5, p=1 ................................\n"
     ]
    },
    {
     "name": "stderr",
     "output_type": "stream",
     "text": [
      "[Parallel(n_jobs=1)]: Done   2 out of   2 | elapsed:   32.3s remaining:    0.0s\n"
     ]
    },
    {
     "name": "stdout",
     "output_type": "stream",
     "text": [
      "[CV]  leaf_size=10, n_neighbors=5, p=1, score=0.5194847572106609, total=   7.8s\n",
      "[CV] leaf_size=10, n_neighbors=5, p=2 ................................\n"
     ]
    },
    {
     "name": "stderr",
     "output_type": "stream",
     "text": [
      "[Parallel(n_jobs=1)]: Done   3 out of   3 | elapsed:   51.8s remaining:    0.0s\n"
     ]
    }
   ],
   "source": [
    "knn_gs_origin.fit(X_train, y_train)"
   ]
  },
  {
   "cell_type": "markdown",
   "metadata": {},
   "source": [
    "### PCA dimensionality"
   ]
  },
  {
   "cell_type": "markdown",
   "metadata": {},
   "source": [
    "#### Logistic regression"
   ]
  },
  {
   "cell_type": "markdown",
   "metadata": {},
   "source": [
    "##### Dimensionality = 2"
   ]
  },
  {
   "cell_type": "code",
   "execution_count": null,
   "metadata": {},
   "outputs": [],
   "source": [
    "lr = LogisticRegression(random_state=random_state)"
   ]
  },
  {
   "cell_type": "code",
   "execution_count": null,
   "metadata": {},
   "outputs": [],
   "source": [
    "lr_gs_pca_2 = GridSearchCV(lr, param_grid=lr_params_grid, scoring=make_scorer(roc_auc_score), verbose=10)"
   ]
  },
  {
   "cell_type": "code",
   "execution_count": null,
   "metadata": {},
   "outputs": [],
   "source": [
    "lr_gs_pca_2.fit(X_train_pca_2, y_train)"
   ]
  },
  {
   "cell_type": "markdown",
   "metadata": {},
   "source": [
    "##### Dimensionality = 3"
   ]
  },
  {
   "cell_type": "code",
   "execution_count": null,
   "metadata": {},
   "outputs": [],
   "source": [
    "lr = LogisticRegression(random_state=random_state)"
   ]
  },
  {
   "cell_type": "code",
   "execution_count": null,
   "metadata": {},
   "outputs": [],
   "source": [
    "lr_gs_pca_3 = GridSearchCV(lr, param_grid=lr_params_grid, scoring=make_scorer(roc_auc_score), verbose=10)"
   ]
  },
  {
   "cell_type": "code",
   "execution_count": null,
   "metadata": {},
   "outputs": [],
   "source": [
    "lr_gs_pca_3.fit(X_train_pca_3, y_train)"
   ]
  },
  {
   "cell_type": "markdown",
   "metadata": {},
   "source": [
    "#### SVM"
   ]
  },
  {
   "cell_type": "markdown",
   "metadata": {},
   "source": [
    "##### Dimensionality = 2"
   ]
  },
  {
   "cell_type": "code",
   "execution_count": null,
   "metadata": {},
   "outputs": [],
   "source": [
    "svm = LinearSVC(random_state=random_state)"
   ]
  },
  {
   "cell_type": "code",
   "execution_count": null,
   "metadata": {},
   "outputs": [],
   "source": [
    "svm_gs_pca_2 = GridSearchCV(svm, param_grid=svm_params_grid, scoring=make_scorer(roc_auc_score), verbose=10)"
   ]
  },
  {
   "cell_type": "code",
   "execution_count": null,
   "metadata": {
    "scrolled": false
   },
   "outputs": [],
   "source": [
    "svm_gs_pca_2.fit(X_train_pca_2, y_train)"
   ]
  },
  {
   "cell_type": "markdown",
   "metadata": {},
   "source": [
    "##### Dimensionality = 3"
   ]
  },
  {
   "cell_type": "code",
   "execution_count": null,
   "metadata": {},
   "outputs": [],
   "source": [
    "svm = LinearSVC(random_state=random_state)"
   ]
  },
  {
   "cell_type": "code",
   "execution_count": null,
   "metadata": {},
   "outputs": [],
   "source": [
    "svm_gs_pca_3 = GridSearchCV(svm, param_grid=svm_params_grid, scoring=make_scorer(roc_auc_score), verbose=10)"
   ]
  },
  {
   "cell_type": "code",
   "execution_count": null,
   "metadata": {
    "scrolled": false
   },
   "outputs": [],
   "source": [
    "svm_gs_pca_3.fit(X_train_pca_3, y_train)"
   ]
  },
  {
   "cell_type": "markdown",
   "metadata": {},
   "source": [
    "#### KNN"
   ]
  },
  {
   "cell_type": "markdown",
   "metadata": {},
   "source": [
    "##### Dimensionality = 2"
   ]
  },
  {
   "cell_type": "code",
   "execution_count": null,
   "metadata": {},
   "outputs": [],
   "source": [
    "knn = KNeighborsClassifier()"
   ]
  },
  {
   "cell_type": "code",
   "execution_count": null,
   "metadata": {},
   "outputs": [],
   "source": [
    "knn_gs_pca_2 = GridSearchCV(knn, param_grid=knn_params_grid, scoring=make_scorer(roc_auc_score), verbose=10)"
   ]
  },
  {
   "cell_type": "code",
   "execution_count": null,
   "metadata": {
    "scrolled": false
   },
   "outputs": [],
   "source": [
    "knn_gs_pca_2.fit(X_train_pca_2, y_train)"
   ]
  },
  {
   "cell_type": "markdown",
   "metadata": {},
   "source": [
    "##### Dimensionality = 3"
   ]
  },
  {
   "cell_type": "code",
   "execution_count": null,
   "metadata": {},
   "outputs": [],
   "source": [
    "knn = KNeighborsClassifier()"
   ]
  },
  {
   "cell_type": "code",
   "execution_count": null,
   "metadata": {},
   "outputs": [],
   "source": [
    "knn_gs_pca_3 = GridSearchCV(knn, param_grid=knn_params_grid, scoring=make_scorer(roc_auc_score), verbose=10)"
   ]
  },
  {
   "cell_type": "code",
   "execution_count": null,
   "metadata": {
    "scrolled": false
   },
   "outputs": [],
   "source": [
    "knn_gs_pca_3.fit(X_train_pca_3, y_train)"
   ]
  },
  {
   "cell_type": "markdown",
   "metadata": {},
   "source": [
    "### Quality metrics"
   ]
  },
  {
   "cell_type": "markdown",
   "metadata": {},
   "source": [
    "#### ROC-AUC"
   ]
  },
  {
   "cell_type": "code",
   "execution_count": null,
   "metadata": {},
   "outputs": [],
   "source": []
  },
  {
   "cell_type": "markdown",
   "metadata": {},
   "source": [
    "#### PR-AUC"
   ]
  },
  {
   "cell_type": "code",
   "execution_count": null,
   "metadata": {},
   "outputs": [],
   "source": []
  },
  {
   "cell_type": "markdown",
   "metadata": {},
   "source": [
    "## Feature engineering"
   ]
  },
  {
   "cell_type": "code",
   "execution_count": null,
   "metadata": {},
   "outputs": [],
   "source": [
    "initial_attributes = X.columns"
   ]
  },
  {
   "cell_type": "code",
   "execution_count": null,
   "metadata": {},
   "outputs": [],
   "source": [
    "X = X.apply(lambda x: x / sum(x), axis=1)"
   ]
  },
  {
   "cell_type": "code",
   "execution_count": null,
   "metadata": {},
   "outputs": [],
   "source": [
    "X['mean_est'] = X.apply(lambda x: sum(range(1, len(initial_attributes) + 1) * x), axis=1)"
   ]
  },
  {
   "cell_type": "code",
   "execution_count": null,
   "metadata": {},
   "outputs": [],
   "source": [
    "X['mode_est'] = X[initial_attributes].apply(lambda x: x.values.argmax(), axis=1)"
   ]
  },
  {
   "cell_type": "code",
   "execution_count": null,
   "metadata": {},
   "outputs": [],
   "source": [
    "X['std_est'] = X.apply(lambda x: sum(x[initial_attributes] * (range(1, len(initial_attributes) + 1) - x['mean_est']) ** 2) ** 0.5, axis=1)"
   ]
  },
  {
   "cell_type": "markdown",
   "metadata": {},
   "source": [
    "## Unsupervised part"
   ]
  },
  {
   "cell_type": "markdown",
   "metadata": {},
   "source": [
    "### DBSCAN"
   ]
  },
  {
   "cell_type": "code",
   "execution_count": null,
   "metadata": {},
   "outputs": [],
   "source": []
  },
  {
   "cell_type": "markdown",
   "metadata": {},
   "source": [
    "### One-Class SVM"
   ]
  },
  {
   "cell_type": "code",
   "execution_count": null,
   "metadata": {},
   "outputs": [],
   "source": []
  },
  {
   "cell_type": "markdown",
   "metadata": {},
   "source": [
    "### Isolation Forest"
   ]
  },
  {
   "cell_type": "code",
   "execution_count": null,
   "metadata": {},
   "outputs": [],
   "source": []
  },
  {
   "cell_type": "markdown",
   "metadata": {},
   "source": [
    "### KNN"
   ]
  },
  {
   "cell_type": "code",
   "execution_count": null,
   "metadata": {},
   "outputs": [],
   "source": []
  },
  {
   "cell_type": "markdown",
   "metadata": {},
   "source": [
    "### Quality metrics"
   ]
  },
  {
   "cell_type": "markdown",
   "metadata": {},
   "source": [
    "#### ARI"
   ]
  },
  {
   "cell_type": "code",
   "execution_count": null,
   "metadata": {},
   "outputs": [],
   "source": []
  },
  {
   "cell_type": "markdown",
   "metadata": {},
   "source": [
    "#### MI"
   ]
  },
  {
   "cell_type": "code",
   "execution_count": null,
   "metadata": {},
   "outputs": [],
   "source": []
  },
  {
   "cell_type": "markdown",
   "metadata": {},
   "source": [
    "#### AMI"
   ]
  },
  {
   "cell_type": "code",
   "execution_count": null,
   "metadata": {},
   "outputs": [],
   "source": []
  },
  {
   "cell_type": "markdown",
   "metadata": {},
   "source": [
    "#### NMI"
   ]
  },
  {
   "cell_type": "code",
   "execution_count": null,
   "metadata": {},
   "outputs": [],
   "source": []
  },
  {
   "cell_type": "markdown",
   "metadata": {},
   "source": [
    "#### Silhouette Coefficient"
   ]
  },
  {
   "cell_type": "code",
   "execution_count": null,
   "metadata": {},
   "outputs": [],
   "source": []
  },
  {
   "cell_type": "markdown",
   "metadata": {},
   "source": [
    "#### Calinski-Harabaz Index"
   ]
  },
  {
   "cell_type": "code",
   "execution_count": null,
   "metadata": {},
   "outputs": [],
   "source": []
  },
  {
   "cell_type": "markdown",
   "metadata": {},
   "source": [
    "# CONCLUSION"
   ]
  },
  {
   "cell_type": "markdown",
   "metadata": {},
   "source": []
  }
 ],
 "metadata": {
  "hide_input": false,
  "kernelspec": {
   "display_name": "Python 3",
   "language": "python",
   "name": "python3"
  },
  "language_info": {
   "codemirror_mode": {
    "name": "ipython",
    "version": 3
   },
   "file_extension": ".py",
   "mimetype": "text/x-python",
   "name": "python",
   "nbconvert_exporter": "python",
   "pygments_lexer": "ipython3",
   "version": "3.6.4"
  },
  "latex_envs": {
   "LaTeX_envs_menu_present": true,
   "autoclose": false,
   "autocomplete": true,
   "bibliofile": "biblio.bib",
   "cite_by": "apalike",
   "current_citInitial": 1,
   "eqLabelWithNumbers": true,
   "eqNumInitial": 1,
   "hotkeys": {
    "equation": "Ctrl-E",
    "itemize": "Ctrl-I"
   },
   "labels_anchors": false,
   "latex_user_defs": false,
   "report_style_numbering": false,
   "user_envs_cfg": false
  },
  "toc": {
   "base_numbering": 1,
   "nav_menu": {},
   "number_sections": true,
   "sideBar": true,
   "skip_h1_title": false,
   "title_cell": "Table of Contents",
   "title_sidebar": "Table of Contents",
   "toc_cell": true,
   "toc_position": {
    "height": "calc(100% - 180px)",
    "left": "10px",
    "top": "150px",
    "width": "428px"
   },
   "toc_section_display": true,
   "toc_window_display": true
  }
 },
 "nbformat": 4,
 "nbformat_minor": 2
}
